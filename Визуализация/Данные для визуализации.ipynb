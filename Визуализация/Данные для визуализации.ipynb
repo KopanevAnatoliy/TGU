{
 "cells": [
  {
   "cell_type": "markdown",
   "id": "c30fd656",
   "metadata": {
    "pycharm": {
     "name": "#%% md\n"
    }
   },
   "source": [
    "# Разведочный анализ данных (EDA)"
   ]
  },
  {
   "cell_type": "code",
   "execution_count": 1,
   "id": "00da2d11",
   "metadata": {
    "pycharm": {
     "name": "#%%\n"
    }
   },
   "outputs": [],
   "source": [
    "import pandas as pd\n",
    "import json\n",
    "import ast\n",
    "import numpy as np\n",
    "import seaborn as sns\n",
    "import matplotlib.pyplot as plt\n",
    "import scipy\n",
    "import scipy.stats as stats\n",
    "import sklearn.linear_model as lm\n",
    "import statsmodels.api as sm\n",
    "import statsmodels.formula.api as smf\n",
    "from sklearn.preprocessing import MultiLabelBinarizer\n",
    "\n",
    "%matplotlib inline\n",
    "# !gdown --id 12ZK2_dILTS_22sNFtIOT7MjaojKPOQoo\n",
    "# !gdown --id 1TeAXhAVS7TjFVpibo1Td_i-Xo5ZW3kt2\n",
    "\n",
    "pd.set_option('display.float_format', lambda x: '%.3f' % x)\n",
    "pd.options.display.max_columns = 20\n",
    "pd.options.display.max_rows = 100\n",
    "pd.options.display.min_rows = 100"
   ]
  },
  {
   "cell_type": "code",
   "execution_count": 2,
   "id": "1dfda454",
   "metadata": {
    "pycharm": {
     "name": "#%%\n"
    }
   },
   "outputs": [],
   "source": [
    "df = pd.read_excel('region roles (26.05.22).xlsx')"
   ]
  },
  {
   "cell_type": "code",
   "execution_count": 3,
   "id": "e68d23f0",
   "metadata": {
    "pycharm": {
     "name": "#%%\n"
    }
   },
   "outputs": [],
   "source": [
    "# Удаляем неинформативные столбцы.\n",
    "\n",
    "df.drop('immediate_redirect_url', axis=1, inplace=True)\n",
    "df.drop('id', axis=1, inplace=True)\n",
    "df.drop('premium', axis=1, inplace=True)\n",
    "df.drop('Unnamed: 0', axis=1, inplace=True)\n",
    "df.drop('response_url', axis=1, inplace=True)\n",
    "df.drop('response_letter_required', axis=1, inplace=True)\n",
    "df.drop('has_test', axis=1, inplace=True)\n",
    "df.drop('address', axis=1, inplace=True)\n",
    "df.drop('sort_point_distance', axis=1, inplace=True)\n",
    "df.drop('url', axis=1, inplace=True)\n",
    "df.drop('insider_interview', axis=1, inplace=True)\n",
    "df.drop('alternate_url', axis=1, inplace=True)\n",
    "df.drop('working_days', axis=1, inplace=True)\n",
    "df.drop('working_time_intervals', axis=1, inplace=True)\n",
    "df.drop('working_time_modes', axis=1, inplace=True)\n",
    "df.drop('accept_temporary', axis=1, inplace=True)\n",
    "df.drop('contacts', axis=1, inplace=True)\n",
    "df.drop('relations', axis=1, inplace=True)\n",
    "# df.drop('schedule', axis=1, inplace=True)\n",
    "df.drop('published_at', axis=1, inplace=True)\n",
    "df.drop('created_at', axis=1, inplace=True)\n",
    "df.drop('type', axis=1, inplace=True)\n",
    "\n",
    "df.drop(df[df['archived'] == True].index, axis=0, inplace=True)\n",
    "df.drop('archived', axis=1, inplace=True)\n",
    "\n"
   ]
  },
  {
   "cell_type": "code",
   "execution_count": 4,
   "id": "428df401",
   "metadata": {
    "pycharm": {
     "name": "#%%\n"
    }
   },
   "outputs": [],
   "source": [
    "# Преобразуем ячейки сета в удобочитаемый вид.\n",
    "course = {'RUR': 1, 'USD': 59.74, 'EUR': 59.53, 'KZT': 0.1254} # курс валют на 23.08.2022\n",
    "\n",
    "def specializations(data):\n",
    "    result = []\n",
    "    for spec in eval(data):\n",
    "        result.append((spec[\"name\"],spec[\"profarea_name\"]))\n",
    "    return tuple(result)\n",
    "\n",
    "def salary_eval(data, key):\n",
    "    if data is np.nan:\n",
    "        return np.nan\n",
    "    try:\n",
    "        salary = ast.literal_eval(data)\n",
    "    except:\n",
    "        return np.nan\n",
    "    if not isinstance(salary, dict):\n",
    "        return np.nan\n",
    "    if salary.get(key) is None:\n",
    "        return np.nan\n",
    "    return salary[key] * course[salary['currency']]\n",
    "# df['area'] = df['area'].apply(lambda x : ast.literal_eval(x)['name'])\n",
    "df['key_skills'] = df['key_skills'].apply(lambda x : tuple([name['name'] for name in eval(x)]))\n",
    "df['experience'] = df['experience'].apply(lambda x : ast.literal_eval(x)['name'])\n",
    "df['department'] = df['department'].apply(lambda x : ast.literal_eval(x)['name'] if not(x is np.nan) else np.nan)\n",
    "df['employer'] = df['employer'].apply(lambda x : ast.literal_eval(x)['name'])\n",
    "df[\"schedule\"] = df[\"schedule\"].apply(lambda x : ast.literal_eval(x)['name'])\n",
    "df['specializations'] = df['specializations'].apply(specializations)\n",
    "\n",
    "df['salary_min'] = df.salary.apply(salary_eval, key='from')\n",
    "df['salary_max'] = df.salary.apply(salary_eval, key='to')\n",
    "df['salary_mean'] = df[['salary_min','salary_max']].mean(axis=1)"
   ]
  },
  {
   "cell_type": "code",
   "execution_count": 5,
   "id": "390ad5fb",
   "metadata": {
    "pycharm": {
     "name": "#%%\n"
    }
   },
   "outputs": [],
   "source": [
    "# Приводим основные профессиональные навыки к одинаковому написанию.\n",
    "skills_dict = {'sql' : 'SQL', 'git': 'Git', 'linux' : 'linux', 'python' : 'Python', 'java script' : 'Java Script',\n",
    "               'javascript' : 'Java Script' ,'json' : 'JSON', 'js' : 'Java Script', 'xml' : 'XML', '1c' : '1C',\n",
    "               '1 c' : '1C', '1с' : '1C', '1 с' : '1C', 'html' : 'HTML', 'css' : 'CSS', 'c#' : 'C#', 'с#' : 'C#',\n",
    "               'php' : 'PHP', 'docker' : 'Docker', 'rest' : 'REST', 'nix' : 'Nix', 'ооп' : 'ООП', 'jira' : 'Atlassian Jira ',\n",
    "               'с++' : 'C++', 'c++' : 'C++', 'android' : 'Android', 'swift' : 'Swift/iOS', 'ios' : 'Swift/iOS',\n",
    "               'kotlin' : 'Kotlin', 'tcp' : 'TCP/IP', 'информационные технологии' : 'Информационные технологии',\n",
    "               'информационная безопасность': 'Информационная безопасность', 'информационной безопасности': 'Информационная безопасность', \n",
    "               'dos': 'DOS', 'net' : '.NET',\n",
    "               'api' : 'API','active directory' : 'Active directory','jquery' : 'JQuery',\n",
    "               'настройка пк' : 'Настройка ПК','настройка сетевых подключений' : 'Настройка сетевых подключений',\n",
    "               'сетевые технологии': 'Настройка сетевых подключений',\n",
    "               'настройка по' : 'Настройка ПО', 'установка по' : 'Настройка ПО',\n",
    "               'windows' : 'Windows', 'базам' : 'Работа с БД', 'базы дан' : 'Работа с БД',\n",
    "               'субд' : 'Работа с БД',\n",
    "               'техническая поддержка' : 'Техническая поддержка','сетевог' : 'Настройка сетевого оборудования','crm' : 'Crm',\n",
    "               'react' : 'React','typescript' : 'TypeScript','dhcp' : 'DHCP',\n",
    "               'анализ' : 'Анализ данных','bash' : 'Bash','zabbix' : 'Zabbix','laravel' : 'Laravel',\n",
    "               'dns': 'Dns', 'cisco': 'Cisco', 'bpmn': 'BPMN', 'тестирование': 'Тестирование', \n",
    "               'nginx': 'Nginx', 'kubernetes': 'Kubernetes', 'vmware': 'VMware', 'redis': 'Redis', \n",
    "               'постановка задач разработчикам': 'Постановка задач разработчикам', 'mongodb': 'MongoDB', \n",
    "               'scrum': 'SCRUM', 'программирование': 'Программирование', \n",
    "               'защиты инфор': 'Cредства информационной защиты', \n",
    "               'uml': 'UML', 'разработка по': 'Разработка ПО', 'spring': 'Spring FrameWork', \n",
    "               'symfony': 'Symfony', 'cms': 'CMS', 'ansible': 'Ansible', 'django': 'Django FrameWork', \n",
    "               'agile': 'AGILE', 'bootstrap': 'BootStrap', 'локаль': 'Администрирование локальных сетей', 'unity': ' Unity', \n",
    "                'rabbit' : 'Rabbit', 'vpn' : 'VPN', 'hyper-v' : 'Hyper-v',\n",
    "                'ajax' : 'AJAX', 'vue' : 'Vue', 'ci/cd' : 'CI/CD',\n",
    "                'golang' : 'Golang', 'mvc' : 'MVC', 'oracle' : 'Oracle',\n",
    "                'битрикс' : 'Bitrix', 'bitrix' : 'Bitrix', 'visual studio' : 'Visual Studio',\n",
    "                'soap' : 'SOAP', 'mac ' : 'Mac OS', 'qt' : 'QT',\n",
    "                'atlassian confluence' : 'Atlassian Confluence', 'http' : 'HTTP', 'верст' : 'Верстка',\n",
    "                'сервер' : 'Настройка серверов', 'системный администратор' : 'Системный администратор', 'powershell' : 'PowerShell',\n",
    "                'yii' : 'Yii', 'access' : 'MS Access', 'kafka' : 'kafka', \n",
    "                'delphi': 'Delphi', 'sass': 'SASS', 'solid': 'SOLID', \n",
    "               'qa': 'QA', 'jenkins': 'Jenkins', 'devops': 'DevOps', 'webpack': 'Webpack', \n",
    "               'backend': 'Backend', 'aws': 'Aws', 'office': 'MS Office', 'asterisk': 'Asterisk', \n",
    "               'hibernate': 'Hibernate', 'grafana': 'Grafana', 'mvvm': 'MVVM', 'centos': 'CentOS', \n",
    "               'power bi': 'Power BI', 'powerbi': 'Power BI', 'wpf': 'WPF', 'git': 'Git', \n",
    "               'test': 'Testing', 'flutter': 'Flutter', 'prometheus': 'Prometheus', 'метрик': 'Метрики', \n",
    "               'entity': 'Entity FrameWork', 'gamedev': 'GameDev', 'redmine': 'Redmine', 'osi': 'OSI', \n",
    "               'антивирус': 'Антивирусная защита', 'сетевого': 'Настройка сетевого оборудования',\n",
    "               'frontend': 'Frontend'\n",
    "              }\n",
    "\n",
    "def key_skills_transformation(data):\n",
    "    result = set()\n",
    "    for skill in data:\n",
    "        skill = skill.lower()\n",
    "        for key in skills_dict.keys():\n",
    "            if key in skill:              \n",
    "                added = True\n",
    "                result.add(skills_dict[key])\n",
    "                skill = skill.replace(key,'')\n",
    "        if skill == 'go':\n",
    "            result.add('Golang')\n",
    "            \n",
    "    return tuple(result) if result else np.nan\n",
    "\n",
    "df['key_skills_tr'] = df.key_skills.apply(key_skills_transformation)"
   ]
  },
  {
   "cell_type": "code",
   "execution_count": 6,
   "id": "0a76512b",
   "metadata": {
    "pycharm": {
     "name": "#%%\n"
    }
   },
   "outputs": [],
   "source": [
    "df_first = df"
   ]
  },
  {
   "cell_type": "code",
   "execution_count": 7,
   "id": "299e77b0",
   "metadata": {
    "pycharm": {
     "name": "#%%\n"
    }
   },
   "outputs": [],
   "source": [
    "df = pd.read_excel('result roles (16.06.2022).xlsx')"
   ]
  },
  {
   "cell_type": "code",
   "execution_count": 8,
   "id": "879dc978",
   "metadata": {
    "pycharm": {
     "name": "#%%\n"
    }
   },
   "outputs": [],
   "source": [
    "# Удаляем неинформативные столбцы.\n",
    "\n",
    "# df.drop('immediate_redirect_url', axis=1, inplace=True)\n",
    "df.drop('id', axis=1, inplace=True)\n",
    "df.drop('premium', axis=1, inplace=True)\n",
    "df.drop('Unnamed: 0', axis=1, inplace=True)\n",
    "# df.drop('response_url', axis=1, inplace=True)\n",
    "df.drop('response_letter_required', axis=1, inplace=True)\n",
    "df.drop('has_test', axis=1, inplace=True)\n",
    "# df.drop('address', axis=1, inplace=True)\n",
    "# df.drop('sort_point_distance', axis=1, inplace=True)\n",
    "df.drop('url', axis=1, inplace=True)\n",
    "df.drop('insider_interview', axis=1, inplace=True)\n",
    "df.drop('alternate_url', axis=1, inplace=True)\n",
    "df.drop('working_days', axis=1, inplace=True)\n",
    "df.drop('working_time_intervals', axis=1, inplace=True)\n",
    "df.drop('working_time_modes', axis=1, inplace=True)\n",
    "df.drop('accept_temporary', axis=1, inplace=True)\n",
    "# df.drop('contacts', axis=1, inplace=True)\n",
    "df.drop('relations', axis=1, inplace=True)\n",
    "# df.drop('schedule', axis=1, inplace=True)\n",
    "df.drop('published_at', axis=1, inplace=True)\n",
    "df.drop('created_at', axis=1, inplace=True)\n",
    "df.drop('type', axis=1, inplace=True)\n",
    "# df.drop('department', axis=1, inplace=True)\n",
    "\n",
    "# df.drop(df[df['archived'] == True].index, axis=0, inplace=True)\n",
    "df.drop('archived', axis=1, inplace=True)\n",
    "\n",
    "df.drop('Unnamed: 29', axis=1, inplace=True)\n",
    "df.drop('Unnamed: 30', axis=1, inplace=True)\n",
    "df.drop('Unnamed: 31', axis=1, inplace=True)\n",
    "df.drop('Unnamed: 32', axis=1, inplace=True)\n",
    "df.drop('Unnamed: 33', axis=1, inplace=True)\n",
    "df.drop('Unnamed: 34', axis=1, inplace=True)\n",
    "df.drop('Unnamed: 35', axis=1, inplace=True)\n",
    "df.drop('Unnamed: 36', axis=1, inplace=True)\n",
    "df.drop('Unnamed: 37', axis=1, inplace=True)\n",
    "df.drop('Unnamed: 38', axis=1, inplace=True)\n",
    "df.drop('Unnamed: 39', axis=1, inplace=True)\n",
    "df.drop('Unnamed: 40', axis=1, inplace=True)\n",
    "df.drop('Unnamed: 41', axis=1, inplace=True)\n",
    "df.drop('Unnamed: 42', axis=1, inplace=True)\n",
    "df.drop('Unnamed: 43', axis=1, inplace=True)\n",
    "df.drop('Unnamed: 44', axis=1, inplace=True)\n",
    "df.drop('Unnamed: 45', axis=1, inplace=True)\n",
    "df.drop('Unnamed: 46', axis=1, inplace=True)\n",
    "df.drop('Unnamed: 47', axis=1, inplace=True)\n",
    "df.drop('Unnamed: 48', axis=1, inplace=True)\n",
    "df.drop('Unnamed: 49', axis=1, inplace=True)\n",
    "df.drop('Unnamed: 50', axis=1, inplace=True)"
   ]
  },
  {
   "cell_type": "code",
   "execution_count": 9,
   "id": "11db872b",
   "metadata": {
    "pycharm": {
     "name": "#%%\n"
    }
   },
   "outputs": [],
   "source": [
    "# Преобразуем ячейки сета в удобочитаемый вид.\n",
    "# Приводим основные профессиональные навыки к одинаковому написанию.\n",
    "\n",
    "def change_experience(exp):\n",
    "    try:\n",
    "        return ast.literal_eval(exp)['name']\n",
    "    except:\n",
    "        return np.nan\n",
    "\n",
    "def change_depart(department):\n",
    "    try:\n",
    "        return ast.literal_eval(department)['name']\n",
    "    except:\n",
    "        return np.nan\n",
    "    \n",
    "def change_employer(string):\n",
    "    try:\n",
    "        return ast.literal_eval(string)['name']\n",
    "    except:\n",
    "        return np.nan\n",
    "    \n",
    "def specializations(data):\n",
    "    result = []\n",
    "    try:\n",
    "        for spec in eval(data):\n",
    "            result.append((spec[\"name\"],spec[\"profarea_name\"]))\n",
    "        return tuple(result)\n",
    "    except:\n",
    "        return tuple()\n",
    "\n",
    "def change_skills(skills):\n",
    "    try:\n",
    "        return tuple(skill['name'] for skill in ast.literal_eval(skills))\n",
    "    except:\n",
    "        return ()\n",
    "\n",
    "def change_schedule(string):\n",
    "    try:\n",
    "        return ast.literal_eval(string)['name']\n",
    "    except:\n",
    "        return np.nan\n",
    "df['department'] = df['department'].apply(change_depart)\n",
    "df['experience'] = df['experience'].apply(change_experience)\n",
    "df['specializations'] = df['specializations'].apply(specializations)\n",
    "df['schedule'] = df['schedule'].apply(change_schedule)\n",
    "df['employer'] = df['employer'].apply(change_employer)\n",
    "df['key_skills'] = df['key_skills'].apply(change_skills)\n",
    "df['key_skills_tr'] = df.key_skills.apply(key_skills_transformation)\n",
    "df['region'] = df['region'].where(df['region'].isin(df_first['region'].values),np.nan)\n",
    "\n",
    "df['salary_min'] = df.salary.apply(salary_eval,key='from')\n",
    "df['salary_max'] = df.salary.apply(salary_eval,key='to')\n",
    "df['salary_mean'] = df[['salary_min','salary_max']].mean(axis=1)"
   ]
  },
  {
   "cell_type": "code",
   "execution_count": 10,
   "id": "5ade5db0",
   "metadata": {
    "pycharm": {
     "name": "#%%\n"
    }
   },
   "outputs": [],
   "source": [
    "df_second = df"
   ]
  },
  {
   "cell_type": "code",
   "execution_count": 11,
   "id": "5c26ce37",
   "metadata": {
    "pycharm": {
     "name": "#%%\n"
    },
    "scrolled": false
   },
   "outputs": [],
   "source": [
    "df_first['month'] = 'Май'\n",
    "df_second['month'] = 'Июнь'"
   ]
  },
  {
   "cell_type": "code",
   "execution_count": 12,
   "id": "1d128eb1",
   "metadata": {},
   "outputs": [],
   "source": [
    "df = pd.concat([df_first, df_second]).drop_duplicates().reset_index(drop=True)"
   ]
  },
  {
   "cell_type": "code",
   "execution_count": 13,
   "id": "a8356d09",
   "metadata": {},
   "outputs": [],
   "source": [
    "df = df[['name','salary_mean','experience','schedule','key_skills_tr','specializations','region', 'month']]\\\n",
    "                            .dropna()\\\n",
    "                            .reset_index(drop=True)"
   ]
  },
  {
   "cell_type": "code",
   "execution_count": 23,
   "id": "b8aa705f",
   "metadata": {
    "pycharm": {
     "name": "#%%\n"
    }
   },
   "outputs": [],
   "source": [
    "def rename(data):\n",
    "    for name in names:\n",
    "        if name.lower() in data.lower():\n",
    "            data = name\n",
    "    return data\n",
    "\n",
    "names = pd.Series(df['name'].unique())\n",
    "names = names[names.str.len() > 14]\n",
    "df['name'] = df['name'].apply(rename)"
   ]
  },
  {
   "cell_type": "code",
   "execution_count": 24,
   "id": "04c6ff49",
   "metadata": {
    "pycharm": {
     "name": "#%%\n"
    }
   },
   "outputs": [],
   "source": [
    "df = df.explode('key_skills_tr').explode('specializations')"
   ]
  },
  {
   "cell_type": "code",
   "execution_count": 25,
   "id": "4e7bfb17",
   "metadata": {
    "pycharm": {
     "name": "#%%\n"
    }
   },
   "outputs": [],
   "source": [
    "df['main_spec'] = df['specializations'].apply(lambda x: x[0])\n",
    "df['sub_spec'] = df['specializations'].apply(lambda x: x[1])\n",
    "df = df[(df['salary_mean'] < 500000) & (df['salary_mean'] > 9999)].dropna().drop('specializations', axis=1)\n"
   ]
  },
  {
   "cell_type": "code",
   "execution_count": 26,
   "id": "57013557",
   "metadata": {
    "pycharm": {
     "name": "#%%\n"
    }
   },
   "outputs": [],
   "source": [
    "df.to_csv(f'VisualV4.csv', header=['name','salary','experience','schedule','skills', 'region', 'month', 'main_spec','sub_spec'])"
   ]
  },
  {
   "cell_type": "code",
   "execution_count": null,
   "id": "37844c60",
   "metadata": {},
   "outputs": [],
   "source": []
  },
  {
   "cell_type": "code",
   "execution_count": null,
   "id": "d36ca3f9",
   "metadata": {},
   "outputs": [],
   "source": []
  },
  {
   "cell_type": "code",
   "execution_count": 40,
   "id": "35d6bbe8",
   "metadata": {},
   "outputs": [],
   "source": []
  }
 ],
 "metadata": {
  "kernelspec": {
   "display_name": "Python 3 (ipykernel)",
   "language": "python",
   "name": "python3"
  },
  "language_info": {
   "codemirror_mode": {
    "name": "ipython",
    "version": 3
   },
   "file_extension": ".py",
   "mimetype": "text/x-python",
   "name": "python",
   "nbconvert_exporter": "python",
   "pygments_lexer": "ipython3",
   "version": "3.9.12"
  }
 },
 "nbformat": 4,
 "nbformat_minor": 5
}
