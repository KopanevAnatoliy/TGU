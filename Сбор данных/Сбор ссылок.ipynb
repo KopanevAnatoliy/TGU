{
 "cells": [
  {
   "cell_type": "code",
   "execution_count": null,
   "id": "4f29b86a",
   "metadata": {},
   "outputs": [],
   "source": [
    "# !pip install bs4\n",
    "# !pip install lxml\n",
    "# !pip install frozendict\n",
    "# !pip install iteration_utilities\n",
    "# !pip install selenium\n",
    "# !pip install webdriver_manager\n",
    "import time\n",
    "import csv\n",
    "from bs4 import BeautifulSoup\n",
    "import lxml\n",
    "from webdriver_manager.chrome import ChromeDriverManager\n",
    "from selenium import webdriver\n",
    "from selenium.webdriver.chrome.service import Service\n",
    "from selenium.webdriver.common.by import By\n",
    "from selenium.webdriver.common.action_chains import ActionChains\n",
    "from selenium.webdriver.support.ui import WebDriverWait\n",
    "from selenium.webdriver.support import expected_conditions as EC\n",
    "from selenium.webdriver.common.keys import Keys\n",
    "from selenium.common.exceptions import NoSuchElementException"
   ]
  },
  {
   "cell_type": "code",
   "execution_count": null,
   "id": "e204b889",
   "metadata": {},
   "outputs": [],
   "source": [
    "service = Service(executable_path=ChromeDriverManager().install())\n",
    "\n",
    "def search(page):    \n",
    "    driver = webdriver.Chrome(service=service)\n",
    "    driver.get(page)\n",
    "    driver.maximize_window()\n",
    "\n",
    "    actions = ActionChains(driver)\n",
    "\n",
    "    try:\n",
    "        while True:\n",
    "            actions.move_to_element(driver.find_element(By.XPATH, '//*[@class=\"b-btn b-btn--secondary full-width\"]')).click()\n",
    "            actions.perform()\n",
    "            time.sleep(0.2)\n",
    "    except NoSuchElementException:\n",
    "        pass\n",
    "    html = driver.page_source\n",
    "    driver.quit()\n",
    "    \n",
    "    hrefs = []\n",
    "    soup = BeautifulSoup(html, \"lxml\")\n",
    "    data = soup.find_all('a',class_='l-course__title block')\n",
    "    for element in data:\n",
    "        hrefs.append(f\"https://obrazoval.ru{element['href']}\")\n",
    "    \n",
    "    return hrefs"
   ]
  },
  {
   "cell_type": "code",
   "execution_count": null,
   "id": "4b9faee1",
   "metadata": {},
   "outputs": [],
   "source": [
    "analyst = search(\"https://obrazoval.ru/courses?direction%5B0%5D=%D0%90%D0%BD%D0%B0%D0%BB%D0%B8%D1%82%D0%B8%D0%BA%D0%B0\")\n",
    "with open(\"analyst.txt\", \"w\", newline=\"\\n\") as f:    \n",
    "    f.write(str(analyst))"
   ]
  },
  {
   "cell_type": "code",
   "execution_count": null,
   "id": "19bfc107",
   "metadata": {},
   "outputs": [],
   "source": [
    "programmer = search(\"https://obrazoval.ru/courses?direction%5B0%5D=%D0%9F%D1%80%D0%BE%D0%B3%D1%80%D0%B0%D0%BC%D0%BC%D0%B8%D1%80%D0%BE%D0%B2%D0%B0%D0%BD%D0%B8%D0%B5\")\n",
    "with open(\"programmer.txt\", \"w\", newline=\"\\n\") as f:    \n",
    "    f.write(str(programmer))"
   ]
  },
  {
   "cell_type": "code",
   "execution_count": null,
   "id": "8d8b441d",
   "metadata": {},
   "outputs": [],
   "source": [
    "management = search(\"https://obrazoval.ru/courses?direction%5B0%5D=%D0%A3%D0%BF%D1%80%D0%B0%D0%B2%D0%BB%D0%B5%D0%BD%D0%B8%D0%B5\")\n",
    "with open(\"management.txt\", \"w\", newline=\"\\n\") as f:    \n",
    "    f.write(str(management))"
   ]
  },
  {
   "cell_type": "code",
   "execution_count": null,
   "id": "8cf253c9",
   "metadata": {},
   "outputs": [],
   "source": [
    "marketing = search(\"https://obrazoval.ru/courses?direction%5B0%5D=%D0%9C%D0%B0%D1%80%D0%BA%D0%B5%D1%82%D0%B8%D0%BD%D0%B3\")\n",
    "with open(\"marketing.txt\", \"w\", newline=\"\\n\") as f:    \n",
    "    f.write(str(marketing))"
   ]
  },
  {
   "cell_type": "code",
   "execution_count": null,
   "id": "d5339c5a",
   "metadata": {},
   "outputs": [],
   "source": [
    "design = search(\"https://obrazoval.ru/courses?direction%5B0%5D=%D0%94%D0%B8%D0%B7%D0%B0%D0%B9%D0%BD%20%D0%B8%20%D1%81%D0%BE%D0%B7%D0%B4%D0%B0%D0%BD%D0%B8%D0%B5%20%D0%BA%D0%BE%D0%BD%D1%82%D0%B5%D0%BD%D1%82%D0%B0\")\n",
    "with open(\"design.txt\", \"w\", newline=\"\\n\") as f:    \n",
    "    f.write(str(design))"
   ]
  },
  {
   "cell_type": "code",
   "execution_count": null,
   "id": "fff859f0",
   "metadata": {},
   "outputs": [],
   "source": [
    "common = search(\"https://obrazoval.ru/courses?direction%5B0%5D=%D0%9E%D0%B1%D1%89%D0%B8%D0%B5%20%D0%BD%D0%B0%D0%B2%D1%8B%D0%BA%D0%B8\")\n",
    "with open(\"common.txt\", \"w\", newline=\"\\n\") as f:    \n",
    "    f.write(str(common))"
   ]
  },
  {
   "cell_type": "code",
   "execution_count": null,
   "id": "3821f60d",
   "metadata": {},
   "outputs": [],
   "source": [
    "professional = search(\"https://obrazoval.ru/courses?direction%5B0%5D=%D0%9F%D1%80%D0%BE%D1%84%D0%B5%D1%81%D1%81%D0%B8%D0%BE%D0%BD%D0%B0%D0%BB%D1%8C%D0%BD%D0%BE%D0%B5\")\n",
    "with open(\"professional.txt\", \"w\", newline=\"\\n\") as f:    \n",
    "    f.write(str(professional))"
   ]
  },
  {
   "cell_type": "code",
   "execution_count": null,
   "id": "7bc295cb",
   "metadata": {},
   "outputs": [],
   "source": [
    "all_hrefs = professional + common + design + marketing + management + programmer + analyst\n",
    "with open(\"all_hrefs.txt\", \"w\", newline=\"\\n\") as f:    \n",
    "    f.write(str(all_hrefs))"
   ]
  },
  {
   "cell_type": "code",
   "execution_count": null,
   "id": "f70da115",
   "metadata": {},
   "outputs": [],
   "source": []
  },
  {
   "cell_type": "code",
   "execution_count": null,
   "id": "a795ecb6",
   "metadata": {},
   "outputs": [],
   "source": []
  },
  {
   "cell_type": "code",
   "execution_count": null,
   "id": "fdb1941c",
   "metadata": {},
   "outputs": [],
   "source": []
  },
  {
   "cell_type": "code",
   "execution_count": null,
   "id": "08bfd37d",
   "metadata": {},
   "outputs": [],
   "source": []
  },
  {
   "cell_type": "code",
   "execution_count": null,
   "id": "39cc52f6",
   "metadata": {},
   "outputs": [],
   "source": []
  },
  {
   "cell_type": "code",
   "execution_count": null,
   "id": "ecedcec5",
   "metadata": {},
   "outputs": [],
   "source": []
  },
  {
   "cell_type": "code",
   "execution_count": null,
   "id": "05fd904d",
   "metadata": {},
   "outputs": [],
   "source": []
  },
  {
   "cell_type": "code",
   "execution_count": null,
   "id": "0f9b51c9",
   "metadata": {},
   "outputs": [],
   "source": []
  },
  {
   "cell_type": "code",
   "execution_count": null,
   "id": "4ac297c5",
   "metadata": {},
   "outputs": [],
   "source": []
  }
 ],
 "metadata": {
  "kernelspec": {
   "display_name": "Python 3 (ipykernel)",
   "language": "python",
   "name": "python3"
  },
  "language_info": {
   "codemirror_mode": {
    "name": "ipython",
    "version": 3
   },
   "file_extension": ".py",
   "mimetype": "text/x-python",
   "name": "python",
   "nbconvert_exporter": "python",
   "pygments_lexer": "ipython3",
   "version": "3.9.12"
  }
 },
 "nbformat": 4,
 "nbformat_minor": 5
}
