{
 "cells": [
  {
   "cell_type": "code",
   "execution_count": 1,
   "id": "00da2d11",
   "metadata": {},
   "outputs": [],
   "source": [
    "import pandas as pd\n",
    "import json\n",
    "import ast\n",
    "import numpy as np\n",
    "import seaborn as sns\n",
    "import matplotlib.pyplot as plt\n",
    "import scipy\n",
    "import scipy.stats as stats\n",
    "import sklearn.linear_model as lm\n",
    "import statsmodels.api as sm\n",
    "import statsmodels.formula.api as smf\n",
    "from sklearn.preprocessing import MultiLabelBinarizer\n",
    "\n",
    "%matplotlib inline\n",
    "# !gdown --id 12ZK2_dILTS_22sNFtIOT7MjaojKPOQoo\n",
    "# !gdown --id 1TeAXhAVS7TjFVpibo1Td_i-Xo5ZW3kt2\n",
    "\n",
    "pd.set_option('display.float_format', lambda x: '%.3f' % x)\n",
    "pd.options.display.max_columns = 20\n",
    "pd.options.display.max_rows = 10\n",
    "pd.options.display.min_rows = 10"
   ]
  },
  {
   "cell_type": "code",
   "execution_count": 2,
   "id": "1dfda454",
   "metadata": {},
   "outputs": [],
   "source": [
    "df = pd.read_csv('curses.csv')"
   ]
  },
  {
   "cell_type": "code",
   "execution_count": 3,
   "id": "978b44f2",
   "metadata": {},
   "outputs": [],
   "source": [
    "df['price'] = df['price'].apply(lambda x: np.nan if (x in [' нет данных ', ' бесплатно ']) | (x is np.nan) else x.split(' ')[0])\\\n",
    "                         .astype(float)\n",
    "df['skills'] = df['skills'].apply(lambda x : len(ast.literal_eval(x)))\n",
    "df['Сертификат'] = df['Сертификат'].apply(lambda x: 1 if x in ['Да', 'для получения']  else 0)\n",
    "df['Трудоустройство'] = df['Трудоустройство'].apply(lambda x: 1 if x == 'Гарантия'\n",
    "                                                                else 0.5 if x == 'Содействие' \n",
    "                                                                else 0)\n",
    "df['Сложность'] = df['Сложность'].apply(lambda x: 1 if x == 'Продвинутый'  else 0)"
   ]
  },
  {
   "cell_type": "code",
   "execution_count": 4,
   "id": "f47fc0eb",
   "metadata": {},
   "outputs": [],
   "source": [
    "def clear_time(data):\n",
    "    if data is np.nan:\n",
    "        return np.nan\n",
    "    result = []\n",
    "    for i in data.strip(',').split():\n",
    "        if 'год' in i:\n",
    "            result.append(' * 8760 +')\n",
    "            if i[-1] == ',':\n",
    "                break\n",
    "        elif 'мес' in i:\n",
    "            result.append(' * 732 +')\n",
    "            if i[-1] == ',':\n",
    "                break\n",
    "        elif 'нед' in i:\n",
    "            result.append(' * 168 +')\n",
    "            if i[-1] == ',':\n",
    "                break\n",
    "        elif 'дн' in i:\n",
    "            result.append(' * 24 +')\n",
    "            if i[-1] == ',':\n",
    "                break\n",
    "        elif 'час' in i:\n",
    "            result.append(' * 1 +')\n",
    "            if i[-1] == ',':\n",
    "                break\n",
    "        elif 'мин' in i:\n",
    "            result.append(' / 60 +')\n",
    "            if i[-1] == ',':\n",
    "                break\n",
    "        elif (i == 'по') | ('ак' in i) | ('уро' in i):\n",
    "            break\n",
    "        elif (',' in i):\n",
    "            result.append(i.replace(',','.'))\n",
    "        else:\n",
    "            result.append(i)\n",
    "    result = ''.join(result)\n",
    "    try:\n",
    "        if result[-1] == '+':\n",
    "            result = eval(result[:-1])\n",
    "        else:\n",
    "            result = eval(result)\n",
    "    except:\n",
    "        result = np.nan\n",
    "    return result if result >= 0 else np.nan\n",
    "df['time'] = df['time'].apply(clear_time)"
   ]
  },
  {
   "cell_type": "code",
   "execution_count": 5,
   "id": "e372341d",
   "metadata": {},
   "outputs": [],
   "source": [
    "df = df[['name', 'price', 'time', 'skills', 'Сертификат', 'Трудоустройство','Сложность']]"
   ]
  },
  {
   "cell_type": "code",
   "execution_count": 6,
   "id": "246fae78",
   "metadata": {},
   "outputs": [
    {
     "data": {
      "text/html": [
       "<table class=\"simpletable\">\n",
       "<caption>OLS Regression Results</caption>\n",
       "<tr>\n",
       "  <th>Dep. Variable:</th>          <td>price</td>      <th>  R-squared:         </th> <td>   0.633</td> \n",
       "</tr>\n",
       "<tr>\n",
       "  <th>Model:</th>                   <td>OLS</td>       <th>  Adj. R-squared:    </th> <td>   0.633</td> \n",
       "</tr>\n",
       "<tr>\n",
       "  <th>Method:</th>             <td>Least Squares</td>  <th>  F-statistic:       </th> <td>   1297.</td> \n",
       "</tr>\n",
       "<tr>\n",
       "  <th>Date:</th>             <td>Tue, 01 Nov 2022</td> <th>  Prob (F-statistic):</th>  <td>  0.00</td>  \n",
       "</tr>\n",
       "<tr>\n",
       "  <th>Time:</th>                 <td>12:29:42</td>     <th>  Log-Likelihood:    </th> <td> -36225.</td> \n",
       "</tr>\n",
       "<tr>\n",
       "  <th>No. Observations:</th>      <td>  3009</td>      <th>  AIC:               </th> <td>7.246e+04</td>\n",
       "</tr>\n",
       "<tr>\n",
       "  <th>Df Residuals:</th>          <td>  3004</td>      <th>  BIC:               </th> <td>7.249e+04</td>\n",
       "</tr>\n",
       "<tr>\n",
       "  <th>Df Model:</th>              <td>     4</td>      <th>                     </th>     <td> </td>    \n",
       "</tr>\n",
       "<tr>\n",
       "  <th>Covariance Type:</th>      <td>nonrobust</td>    <th>                     </th>     <td> </td>    \n",
       "</tr>\n",
       "</table>\n",
       "<table class=\"simpletable\">\n",
       "<tr>\n",
       "       <td></td>         <th>coef</th>     <th>std err</th>      <th>t</th>      <th>P>|t|</th>  <th>[0.025</th>    <th>0.975]</th>  \n",
       "</tr>\n",
       "<tr>\n",
       "  <th>Intercept</th>  <td>-5720.2852</td> <td> 2147.823</td> <td>   -2.663</td> <td> 0.008</td> <td>-9931.638</td> <td>-1508.933</td>\n",
       "</tr>\n",
       "<tr>\n",
       "  <th>skills</th>     <td> 1188.6145</td> <td>  144.249</td> <td>    8.240</td> <td> 0.000</td> <td>  905.777</td> <td> 1471.452</td>\n",
       "</tr>\n",
       "<tr>\n",
       "  <th>time</th>       <td>   14.5498</td> <td>    0.212</td> <td>   68.712</td> <td> 0.000</td> <td>   14.135</td> <td>   14.965</td>\n",
       "</tr>\n",
       "<tr>\n",
       "  <th>Сертификат</th> <td> 8318.0224</td> <td> 2014.461</td> <td>    4.129</td> <td> 0.000</td> <td> 4368.159</td> <td> 1.23e+04</td>\n",
       "</tr>\n",
       "<tr>\n",
       "  <th>Сложность</th>  <td> 1.228e+04</td> <td> 1605.865</td> <td>    7.648</td> <td> 0.000</td> <td> 9133.234</td> <td> 1.54e+04</td>\n",
       "</tr>\n",
       "</table>\n",
       "<table class=\"simpletable\">\n",
       "<tr>\n",
       "  <th>Omnibus:</th>       <td>3086.444</td> <th>  Durbin-Watson:     </th>  <td>   2.009</td> \n",
       "</tr>\n",
       "<tr>\n",
       "  <th>Prob(Omnibus):</th>  <td> 0.000</td>  <th>  Jarque-Bera (JB):  </th> <td>324404.403</td>\n",
       "</tr>\n",
       "<tr>\n",
       "  <th>Skew:</th>           <td> 4.817</td>  <th>  Prob(JB):          </th>  <td>    0.00</td> \n",
       "</tr>\n",
       "<tr>\n",
       "  <th>Kurtosis:</th>       <td>52.947</td>  <th>  Cond. No.          </th>  <td>1.57e+04</td> \n",
       "</tr>\n",
       "</table><br/><br/>Notes:<br/>[1] Standard Errors assume that the covariance matrix of the errors is correctly specified.<br/>[2] The condition number is large, 1.57e+04. This might indicate that there are<br/>strong multicollinearity or other numerical problems."
      ],
      "text/plain": [
       "<class 'statsmodels.iolib.summary.Summary'>\n",
       "\"\"\"\n",
       "                            OLS Regression Results                            \n",
       "==============================================================================\n",
       "Dep. Variable:                  price   R-squared:                       0.633\n",
       "Model:                            OLS   Adj. R-squared:                  0.633\n",
       "Method:                 Least Squares   F-statistic:                     1297.\n",
       "Date:                Tue, 01 Nov 2022   Prob (F-statistic):               0.00\n",
       "Time:                        12:29:42   Log-Likelihood:                -36225.\n",
       "No. Observations:                3009   AIC:                         7.246e+04\n",
       "Df Residuals:                    3004   BIC:                         7.249e+04\n",
       "Df Model:                           4                                         \n",
       "Covariance Type:            nonrobust                                         \n",
       "==============================================================================\n",
       "                 coef    std err          t      P>|t|      [0.025      0.975]\n",
       "------------------------------------------------------------------------------\n",
       "Intercept  -5720.2852   2147.823     -2.663      0.008   -9931.638   -1508.933\n",
       "skills      1188.6145    144.249      8.240      0.000     905.777    1471.452\n",
       "time          14.5498      0.212     68.712      0.000      14.135      14.965\n",
       "Сертификат  8318.0224   2014.461      4.129      0.000    4368.159    1.23e+04\n",
       "Сложность   1.228e+04   1605.865      7.648      0.000    9133.234    1.54e+04\n",
       "==============================================================================\n",
       "Omnibus:                     3086.444   Durbin-Watson:                   2.009\n",
       "Prob(Omnibus):                  0.000   Jarque-Bera (JB):           324404.403\n",
       "Skew:                           4.817   Prob(JB):                         0.00\n",
       "Kurtosis:                      52.947   Cond. No.                     1.57e+04\n",
       "==============================================================================\n",
       "\n",
       "Notes:\n",
       "[1] Standard Errors assume that the covariance matrix of the errors is correctly specified.\n",
       "[2] The condition number is large, 1.57e+04. This might indicate that there are\n",
       "strong multicollinearity or other numerical problems.\n",
       "\"\"\""
      ]
     },
     "execution_count": 6,
     "metadata": {},
     "output_type": "execute_result"
    }
   ],
   "source": [
    "df_regression = pd.concat([ df['price'], df['skills'], df['time'], df['Сертификат'],df['Сложность']],axis=1)\n",
    "resultsm = smf.ols(f'price ~ {\" + \".join(df_regression.columns[1:])}', data=df_regression).fit()\n",
    "resultsm.summary()"
   ]
  },
  {
   "cell_type": "code",
   "execution_count": 64,
   "id": "b8460a4c",
   "metadata": {},
   "outputs": [],
   "source": [
    "coef = pd.read_html(resultsm.summary().tables[1].as_html(),header=0,index_col=0)[0]['coef'].to_frame().T"
   ]
  },
  {
   "cell_type": "code",
   "execution_count": 13,
   "id": "5ecaa48b",
   "metadata": {},
   "outputs": [],
   "source": [
    "coef.to_csv('coeft.csv', header=True)"
   ]
  },
  {
   "cell_type": "code",
   "execution_count": 65,
   "id": "84304800",
   "metadata": {
    "scrolled": true
   },
   "outputs": [
    {
     "data": {
      "text/html": [
       "<div>\n",
       "<style scoped>\n",
       "    .dataframe tbody tr th:only-of-type {\n",
       "        vertical-align: middle;\n",
       "    }\n",
       "\n",
       "    .dataframe tbody tr th {\n",
       "        vertical-align: top;\n",
       "    }\n",
       "\n",
       "    .dataframe thead th {\n",
       "        text-align: right;\n",
       "    }\n",
       "</style>\n",
       "<table border=\"1\" class=\"dataframe\">\n",
       "  <thead>\n",
       "    <tr style=\"text-align: right;\">\n",
       "      <th></th>\n",
       "      <th>coef</th>\n",
       "    </tr>\n",
       "  </thead>\n",
       "  <tbody>\n",
       "    <tr>\n",
       "      <th>Intercept</th>\n",
       "      <td>-5720.285</td>\n",
       "    </tr>\n",
       "    <tr>\n",
       "      <th>skills</th>\n",
       "      <td>1188.614</td>\n",
       "    </tr>\n",
       "    <tr>\n",
       "      <th>time</th>\n",
       "      <td>14.550</td>\n",
       "    </tr>\n",
       "    <tr>\n",
       "      <th>Сертификат</th>\n",
       "      <td>8318.022</td>\n",
       "    </tr>\n",
       "    <tr>\n",
       "      <th>Сложность</th>\n",
       "      <td>12280.000</td>\n",
       "    </tr>\n",
       "  </tbody>\n",
       "</table>\n",
       "</div>"
      ],
      "text/plain": [
       "                coef\n",
       "Intercept  -5720.285\n",
       "skills      1188.614\n",
       "time          14.550\n",
       "Сертификат  8318.022\n",
       "Сложность  12280.000"
      ]
     },
     "execution_count": 65,
     "metadata": {},
     "output_type": "execute_result"
    }
   ],
   "source": []
  },
  {
   "cell_type": "code",
   "execution_count": 59,
   "id": "c04cf928",
   "metadata": {},
   "outputs": [],
   "source": []
  },
  {
   "cell_type": "code",
   "execution_count": 51,
   "id": "9221a677",
   "metadata": {},
   "outputs": [],
   "source": []
  },
  {
   "cell_type": "code",
   "execution_count": 47,
   "id": "2af03209",
   "metadata": {},
   "outputs": [],
   "source": []
  },
  {
   "cell_type": "code",
   "execution_count": 55,
   "id": "fabf8b87",
   "metadata": {},
   "outputs": [],
   "source": []
  },
  {
   "cell_type": "code",
   "execution_count": null,
   "id": "bc5d223f",
   "metadata": {},
   "outputs": [],
   "source": []
  },
  {
   "cell_type": "code",
   "execution_count": null,
   "id": "fef2f856",
   "metadata": {},
   "outputs": [],
   "source": []
  },
  {
   "cell_type": "code",
   "execution_count": null,
   "id": "3151c2b6",
   "metadata": {},
   "outputs": [],
   "source": []
  },
  {
   "cell_type": "code",
   "execution_count": null,
   "id": "0e96e59c",
   "metadata": {},
   "outputs": [],
   "source": []
  },
  {
   "cell_type": "code",
   "execution_count": null,
   "id": "77167b45",
   "metadata": {},
   "outputs": [],
   "source": []
  },
  {
   "cell_type": "code",
   "execution_count": null,
   "id": "d26f2fe7",
   "metadata": {},
   "outputs": [],
   "source": []
  },
  {
   "cell_type": "code",
   "execution_count": null,
   "id": "f7b48574",
   "metadata": {},
   "outputs": [],
   "source": []
  },
  {
   "cell_type": "code",
   "execution_count": null,
   "id": "a8a8a0fe",
   "metadata": {},
   "outputs": [],
   "source": []
  },
  {
   "cell_type": "code",
   "execution_count": null,
   "id": "18f31bc6",
   "metadata": {},
   "outputs": [],
   "source": []
  },
  {
   "cell_type": "code",
   "execution_count": null,
   "id": "d4562f91",
   "metadata": {},
   "outputs": [],
   "source": []
  },
  {
   "cell_type": "code",
   "execution_count": null,
   "id": "701e0cdd",
   "metadata": {},
   "outputs": [],
   "source": []
  },
  {
   "cell_type": "code",
   "execution_count": null,
   "id": "9e785839",
   "metadata": {},
   "outputs": [],
   "source": []
  },
  {
   "cell_type": "code",
   "execution_count": null,
   "id": "89457760",
   "metadata": {},
   "outputs": [],
   "source": []
  },
  {
   "cell_type": "code",
   "execution_count": null,
   "id": "8ea36412",
   "metadata": {},
   "outputs": [],
   "source": []
  },
  {
   "cell_type": "code",
   "execution_count": null,
   "id": "93c3b1ad",
   "metadata": {},
   "outputs": [],
   "source": []
  },
  {
   "cell_type": "code",
   "execution_count": null,
   "id": "b7a7b33f",
   "metadata": {},
   "outputs": [],
   "source": []
  },
  {
   "cell_type": "code",
   "execution_count": null,
   "id": "c7a3d9c1",
   "metadata": {},
   "outputs": [],
   "source": []
  },
  {
   "cell_type": "code",
   "execution_count": null,
   "id": "eff1eccc",
   "metadata": {},
   "outputs": [],
   "source": []
  },
  {
   "cell_type": "code",
   "execution_count": null,
   "id": "c3bbc0d6",
   "metadata": {},
   "outputs": [],
   "source": []
  }
 ],
 "metadata": {
  "kernelspec": {
   "display_name": "Python 3 (ipykernel)",
   "language": "python",
   "name": "python3"
  },
  "language_info": {
   "codemirror_mode": {
    "name": "ipython",
    "version": 3
   },
   "file_extension": ".py",
   "mimetype": "text/x-python",
   "name": "python",
   "nbconvert_exporter": "python",
   "pygments_lexer": "ipython3",
   "version": "3.9.12"
  }
 },
 "nbformat": 4,
 "nbformat_minor": 5
}
