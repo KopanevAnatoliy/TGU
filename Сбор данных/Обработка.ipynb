{
 "cells": [
  {
   "cell_type": "code",
   "execution_count": 9,
   "id": "3b6fb6c2",
   "metadata": {
    "pycharm": {
     "name": "#%%\n"
    }
   },
   "outputs": [],
   "source": [
    "import pandas as pd\n",
    "import numpy as np\n",
    "import ast\n",
    "import difflib\n",
    "pd.options.display.max_rows = 50\n",
    "pd.options.display.min_rows = 50"
   ]
  },
  {
   "cell_type": "code",
   "execution_count": 19,
   "id": "29e95a8a",
   "metadata": {
    "pycharm": {
     "name": "#%%\n"
    }
   },
   "outputs": [],
   "source": [
    "df = pd.read_csv('curses.csv', index_col=0)"
   ]
  },
  {
   "cell_type": "code",
   "execution_count": 20,
   "id": "b5e4da77",
   "metadata": {
    "pycharm": {
     "name": "#%%\n"
    }
   },
   "outputs": [
    {
     "data": {
      "text/html": [
       "<div>\n",
       "<style scoped>\n",
       "    .dataframe tbody tr th:only-of-type {\n",
       "        vertical-align: middle;\n",
       "    }\n",
       "\n",
       "    .dataframe tbody tr th {\n",
       "        vertical-align: top;\n",
       "    }\n",
       "\n",
       "    .dataframe thead th {\n",
       "        text-align: right;\n",
       "    }\n",
       "</style>\n",
       "<table border=\"1\" class=\"dataframe\">\n",
       "  <thead>\n",
       "    <tr style=\"text-align: right;\">\n",
       "      <th></th>\n",
       "      <th>name</th>\n",
       "      <th>price</th>\n",
       "      <th>ratio</th>\n",
       "      <th>time</th>\n",
       "      <th>skills</th>\n",
       "      <th>school</th>\n",
       "      <th>Сложность</th>\n",
       "      <th>Тип обучения</th>\n",
       "      <th>Формат обучения</th>\n",
       "      <th>Трудоустройство</th>\n",
       "      <th>Сертификат</th>\n",
       "      <th>Зач. единицы</th>\n",
       "    </tr>\n",
       "  </thead>\n",
       "  <tbody>\n",
       "    <tr>\n",
       "      <th>0</th>\n",
       "      <td>Бухгалтер</td>\n",
       "      <td>81125 ₽</td>\n",
       "      <td>4.8</td>\n",
       "      <td>NaN</td>\n",
       "      <td>['1С:Предприятие', 'КДП', 'Бухгалтерский учет'...</td>\n",
       "      <td>Skillbox</td>\n",
       "      <td>Начинающий</td>\n",
       "      <td>Профессия</td>\n",
       "      <td>С проверкой домашнего задания</td>\n",
       "      <td>Гарантия</td>\n",
       "      <td>Да</td>\n",
       "      <td>NaN</td>\n",
       "    </tr>\n",
       "    <tr>\n",
       "      <th>1</th>\n",
       "      <td>Дизайн среды: от интерьера до города</td>\n",
       "      <td>164700 ₽</td>\n",
       "      <td>4.8</td>\n",
       "      <td>23 месяца,</td>\n",
       "      <td>['Sketch', 'Скетчинг', 'Визуализация', 'Дизайн...</td>\n",
       "      <td>Нетология</td>\n",
       "      <td>Начинающий</td>\n",
       "      <td>Курс</td>\n",
       "      <td>С проверкой домашнего задания</td>\n",
       "      <td>Гарантия</td>\n",
       "      <td>Да</td>\n",
       "      <td>NaN</td>\n",
       "    </tr>\n",
       "    <tr>\n",
       "      <th>2</th>\n",
       "      <td>Как правильно вести кадровое делопроизводство</td>\n",
       "      <td>6000 ₽</td>\n",
       "      <td>4.2</td>\n",
       "      <td>NaN</td>\n",
       "      <td>['КДП']</td>\n",
       "      <td>КонтурШкола</td>\n",
       "      <td>Начинающий</td>\n",
       "      <td>Курс</td>\n",
       "      <td>Записанные лекции</td>\n",
       "      <td>Отсутствует</td>\n",
       "      <td>NaN</td>\n",
       "      <td>NaN</td>\n",
       "    </tr>\n",
       "    <tr>\n",
       "      <th>3</th>\n",
       "      <td>Прикладной анализ данных в медицинской сфере</td>\n",
       "      <td>640000 ₽</td>\n",
       "      <td>4.8</td>\n",
       "      <td>2 года</td>\n",
       "      <td>['Анализ данных', 'Биостатистика', 'Экономика ...</td>\n",
       "      <td>Московский физико-технический институт</td>\n",
       "      <td>Продвинутый</td>\n",
       "      <td>Высшее образование</td>\n",
       "      <td>С проверкой домашнего задания</td>\n",
       "      <td>Отсутствует</td>\n",
       "      <td>Да</td>\n",
       "      <td>NaN</td>\n",
       "    </tr>\n",
       "    <tr>\n",
       "      <th>4</th>\n",
       "      <td>Руководитель проектов в строительстве</td>\n",
       "      <td>134700 ₽</td>\n",
       "      <td>4.4</td>\n",
       "      <td>12 месяцев по 2 занятия в неделю,</td>\n",
       "      <td>['Закупки', 'Нормативно-правовая база', 'Управ...</td>\n",
       "      <td>GeekBrains</td>\n",
       "      <td>Начинающий</td>\n",
       "      <td>Профессия</td>\n",
       "      <td>С проверкой домашнего задания</td>\n",
       "      <td>Гарантия</td>\n",
       "      <td>Да</td>\n",
       "      <td>NaN</td>\n",
       "    </tr>\n",
       "  </tbody>\n",
       "</table>\n",
       "</div>"
      ],
      "text/plain": [
       "                                            name     price  ratio  \\\n",
       "0                                      Бухгалтер   81125 ₽    4.8   \n",
       "1           Дизайн среды: от интерьера до города  164700 ₽    4.8   \n",
       "2  Как правильно вести кадровое делопроизводство    6000 ₽    4.2   \n",
       "3   Прикладной анализ данных в медицинской сфере  640000 ₽    4.8   \n",
       "4          Руководитель проектов в строительстве  134700 ₽    4.4   \n",
       "\n",
       "                                 time  \\\n",
       "0                                 NaN   \n",
       "1                          23 месяца,   \n",
       "2                                 NaN   \n",
       "3                              2 года   \n",
       "4   12 месяцев по 2 занятия в неделю,   \n",
       "\n",
       "                                              skills  \\\n",
       "0  ['1С:Предприятие', 'КДП', 'Бухгалтерский учет'...   \n",
       "1  ['Sketch', 'Скетчинг', 'Визуализация', 'Дизайн...   \n",
       "2                                            ['КДП']   \n",
       "3  ['Анализ данных', 'Биостатистика', 'Экономика ...   \n",
       "4  ['Закупки', 'Нормативно-правовая база', 'Управ...   \n",
       "\n",
       "                                   school    Сложность        Тип обучения  \\\n",
       "0                                Skillbox   Начинающий           Профессия   \n",
       "1                               Нетология   Начинающий                Курс   \n",
       "2                             КонтурШкола   Начинающий                Курс   \n",
       "3  Московский физико-технический институт  Продвинутый  Высшее образование   \n",
       "4                              GeekBrains   Начинающий           Профессия   \n",
       "\n",
       "                 Формат обучения Трудоустройство Сертификат  Зач. единицы  \n",
       "0  С проверкой домашнего задания        Гарантия         Да           NaN  \n",
       "1  С проверкой домашнего задания        Гарантия         Да           NaN  \n",
       "2              Записанные лекции     Отсутствует        NaN           NaN  \n",
       "3  С проверкой домашнего задания     Отсутствует         Да           NaN  \n",
       "4  С проверкой домашнего задания        Гарантия         Да           NaN  "
      ]
     },
     "execution_count": 20,
     "metadata": {},
     "output_type": "execute_result"
    }
   ],
   "source": [
    "df.head(5)"
   ]
  },
  {
   "cell_type": "code",
   "execution_count": 21,
   "id": "aae546f5",
   "metadata": {
    "pycharm": {
     "name": "#%%\n"
    }
   },
   "outputs": [
    {
     "name": "stdout",
     "output_type": "stream",
     "text": [
      "<class 'pandas.core.frame.DataFrame'>\n",
      "Int64Index: 6190 entries, 0 to 6189\n",
      "Data columns (total 12 columns):\n",
      " #   Column           Non-Null Count  Dtype  \n",
      "---  ------           --------------  -----  \n",
      " 0   name             6190 non-null   object \n",
      " 1   price            6190 non-null   object \n",
      " 2   ratio            6190 non-null   float64\n",
      " 3   time             5069 non-null   object \n",
      " 4   skills           6190 non-null   object \n",
      " 5   school           6190 non-null   object \n",
      " 6   Сложность        5883 non-null   object \n",
      " 7   Тип обучения     6190 non-null   object \n",
      " 8   Формат обучения  5950 non-null   object \n",
      " 9   Трудоустройство  5692 non-null   object \n",
      " 10  Сертификат       4862 non-null   object \n",
      " 11  Зач. единицы     760 non-null    float64\n",
      "dtypes: float64(2), object(10)\n",
      "memory usage: 628.7+ KB\n"
     ]
    }
   ],
   "source": [
    "df.info()"
   ]
  },
  {
   "cell_type": "code",
   "execution_count": 22,
   "id": "8dada9dd",
   "metadata": {
    "pycharm": {
     "name": "#%%\n"
    }
   },
   "outputs": [],
   "source": [
    "def clear_price(data):\n",
    "    \n",
    "    if data == ' бесплатно ' or data == ' нет данных ' or data is np.nan:\n",
    "        return np.nan\n",
    "    tmp = int(data.split(' ')[0])\n",
    "    if tmp < 1:\n",
    "        return np.nan\n",
    "    return tmp\n",
    "\n",
    "df['price'] = df['price'].apply(clear_price)\n"
   ]
  },
  {
   "cell_type": "code",
   "execution_count": 23,
   "id": "8fdd839c",
   "metadata": {
    "pycharm": {
     "name": "#%%\n"
    }
   },
   "outputs": [],
   "source": [
    "df['skills'] = df['skills'].apply(lambda x : ast.literal_eval(x))"
   ]
  },
  {
   "cell_type": "code",
   "execution_count": 24,
   "id": "6d6b8fed",
   "metadata": {
    "pycharm": {
     "name": "#%%\n"
    }
   },
   "outputs": [],
   "source": [
    "n = 16\n",
    "def rename(data):\n",
    "    sq = difflib.SequenceMatcher(None, data, \"\")\n",
    "    for name in names:\n",
    "        if len(data) <= len(name):\n",
    "            continue\n",
    "        sq.set_seq2(name)\n",
    "        if (sq.find_longest_match()[2] > n):\n",
    "            data = name\n",
    "            sq.set_seq1(data)\n",
    "    return data\n",
    "\n",
    "names = pd.Series(df['name'].unique())\n",
    "names = names[names.str.len() > n]\n",
    "df['name'] = df['name'].apply(rename)"
   ]
  },
  {
   "cell_type": "code",
   "execution_count": 25,
   "id": "6e803f87",
   "metadata": {
    "pycharm": {
     "name": "#%%\n"
    }
   },
   "outputs": [],
   "source": [
    "def clear_time(data):\n",
    "    if data is np.nan:\n",
    "        return np.nan\n",
    "    result = []\n",
    "    for i in data.strip(',').split():\n",
    "        if 'год' in i:\n",
    "            result.append(' * 8760 +')\n",
    "            if i[-1] == ',':\n",
    "                break\n",
    "        elif 'мес' in i:\n",
    "            result.append(' * 732 +')\n",
    "            if i[-1] == ',':\n",
    "                break\n",
    "        elif 'нед' in i:\n",
    "            result.append(' * 168 +')\n",
    "            if i[-1] == ',':\n",
    "                break\n",
    "        elif 'дн' in i:\n",
    "            result.append(' * 24 +')\n",
    "            if i[-1] == ',':\n",
    "                break\n",
    "        elif 'час' in i:\n",
    "            result.append(' * 1 +')\n",
    "            if i[-1] == ',':\n",
    "                break\n",
    "        elif 'мин' in i:\n",
    "            result.append(' / 60 +')\n",
    "            if i[-1] == ',':\n",
    "                break\n",
    "        elif (i == 'по') | ('ак' in i) | ('уро' in i):\n",
    "            break\n",
    "        elif (',' in i):\n",
    "            result.append(i.replace(',','.'))\n",
    "        else:\n",
    "            result.append(i)\n",
    "    result = ''.join(result)\n",
    "    try:\n",
    "        if result[-1] == '+':\n",
    "            result = eval(result[:-1])\n",
    "        else:\n",
    "            result = eval(result)\n",
    "    except:\n",
    "        result = np.nan\n",
    "    return result if result >= 0 else np.nan\n",
    "df['time'] = df['time'].apply(clear_time)"
   ]
  },
  {
   "cell_type": "code",
   "execution_count": 26,
   "id": "3ee8680c",
   "metadata": {
    "pycharm": {
     "name": "#%%\n"
    }
   },
   "outputs": [],
   "source": [
    "skills_dict = {'sql': 'SQL', 'git': 'Git', 'linux': 'linux', 'python': 'Python', 'java script': 'Java Script',\n",
    "               'javascript': 'Java Script', 'json': 'JSON', 'js': 'Java Script', 'xml': 'XML', '1c': '1C',\n",
    "               '1 c': '1C', '1с': '1C', '1 с': '1C', 'html': 'HTML', 'css': 'CSS', 'c#': 'C#', 'с#': 'C#',\n",
    "               'php': 'PHP', 'docker': 'Docker', 'rest': 'REST', 'nix': 'Nix', 'ооп': 'ООП', 'jira': 'Atlassian Jira ',\n",
    "               'с++': 'C++', 'c++': 'C++', 'android': 'Android', 'swift': 'Swift/iOS', 'ios': 'Swift/iOS',\n",
    "               'kotlin': 'Kotlin', 'tcp': 'TCP/IP', 'информационные технологии': 'Информационные технологии',\n",
    "               'информационная безопасность': 'Информационная безопасность',\n",
    "               'информационной безопасности': 'Информационная безопасность',\n",
    "               'dos': 'DOS', 'net': '.NET',\n",
    "               'api': 'API', 'active directory': 'Active directory', 'jquery': 'JQuery',\n",
    "               'настройка пк': 'Настройка ПК', 'настройка сетевых подключений': 'Настройка сетевых подключений',\n",
    "               'сетевые технологии': 'Настройка сетевых подключений',\n",
    "               'настройка по': 'Настройка ПО', 'установка по': 'Настройка ПО',\n",
    "               'windows': 'Windows', 'базам': 'Работа с БД', 'базы дан': 'Работа с БД',\n",
    "               'субд': 'Работа с БД',\n",
    "               'техническая поддержка': 'Техническая поддержка', 'сетевог': 'Настройка сетевого оборудования',\n",
    "               'crm': 'Crm',\n",
    "               'react': 'React', 'typescript': 'TypeScript', 'dhcp': 'DHCP',\n",
    "               'анализ': 'Анализ данных', 'bash': 'Bash', 'zabbix': 'Zabbix', 'laravel': 'Laravel',\n",
    "               'dns': 'Dns', 'cisco': 'Cisco', 'bpmn': 'BPMN', 'тестирование': 'Тестирование',\n",
    "               'nginx': 'Nginx', 'kubernetes': 'Kubernetes', 'vmware': 'VMware', 'redis': 'Redis',\n",
    "               'постановка задач разработчикам': 'Постановка задач разработчикам', 'mongodb': 'MongoDB',\n",
    "               'scrum': 'SCRUM', 'программирование': 'Программирование',\n",
    "               'защиты инфор': 'Cредства информационной защиты',\n",
    "               'uml': 'UML', 'разработка по': 'Разработка ПО', 'spring': 'Spring FrameWork',\n",
    "               'symfony': 'Symfony', 'cms': 'CMS', 'ansible': 'Ansible', 'django': 'Django FrameWork',\n",
    "               'agile': 'AGILE', 'bootstrap': 'BootStrap', 'локаль': 'Администрирование локальных сетей',\n",
    "               'unity': ' Unity',\n",
    "               'rabbit': 'Rabbit', 'vpn': 'VPN', 'hyper-v': 'Hyper-v',\n",
    "               'ajax': 'AJAX', 'vue': 'Vue', 'ci/cd': 'CI/CD',\n",
    "               'golang': 'Golang', 'mvc': 'MVC', 'oracle': 'Oracle',\n",
    "               'битрикс': 'Bitrix', 'bitrix': 'Bitrix', 'visual studio': 'Visual Studio',\n",
    "               'soap': 'SOAP', 'mac ': 'Mac OS', 'qt': 'QT',\n",
    "               'atlassian confluence': 'Atlassian Confluence', 'http': 'HTTP', 'верст': 'Верстка',\n",
    "               'сервер': 'Настройка серверов', 'системный администратор': 'Системный администратор',\n",
    "               'powershell': 'PowerShell',\n",
    "               'yii': 'Yii', 'access': 'MS Access', 'kafka': 'kafka',\n",
    "               'delphi': 'Delphi', 'sass': 'SASS', 'solid': 'SOLID',\n",
    "               'qa': 'QA', 'jenkins': 'Jenkins', 'devops': 'DevOps', 'webpack': 'Webpack',\n",
    "               'backend': 'Backend', 'aws': 'Aws', 'office': 'MS Office', 'asterisk': 'Asterisk',\n",
    "               'hibernate': 'Hibernate', 'grafana': 'Grafana', 'mvvm': 'MVVM', 'centos': 'CentOS',\n",
    "               'power bi': 'Power BI', 'powerbi': 'Power BI', 'wpf': 'WPF', 'git': 'Git',\n",
    "               'test': 'Testing', 'flutter': 'Flutter', 'prometheus': 'Prometheus', 'метрик': 'Метрики',\n",
    "               'entity': 'Entity FrameWork', 'gamedev': 'GameDev', 'redmine': 'Redmine', 'osi': 'OSI',\n",
    "               'антивирус': 'Антивирусная защита', 'сетевого': 'Настройка сетевого оборудования',\n",
    "               'frontend': 'Frontend'\n",
    "               }\n",
    "\n",
    "\n",
    "def skills_transformation(data):\n",
    "    result = set()\n",
    "    for skill in data:\n",
    "        skill = skill.lower()\n",
    "        for key in skills_dict.keys():\n",
    "            if key in skill:\n",
    "                result.add(skills_dict[key])\n",
    "                skill = skill.replace(key, '')\n",
    "        if skill == 'go':\n",
    "            result.add('Golang')\n",
    "\n",
    "    return tuple(result) if result else np.nan\n",
    "\n",
    "\n",
    "df['skills'] = df['skills'].apply(skills_transformation)\n"
   ]
  },
  {
   "cell_type": "code",
   "execution_count": 28,
   "id": "c14e7a4b",
   "metadata": {
    "pycharm": {
     "name": "#%%\n"
    }
   },
   "outputs": [
    {
     "data": {
      "text/html": [
       "<div>\n",
       "<style scoped>\n",
       "    .dataframe tbody tr th:only-of-type {\n",
       "        vertical-align: middle;\n",
       "    }\n",
       "\n",
       "    .dataframe tbody tr th {\n",
       "        vertical-align: top;\n",
       "    }\n",
       "\n",
       "    .dataframe thead th {\n",
       "        text-align: right;\n",
       "    }\n",
       "</style>\n",
       "<table border=\"1\" class=\"dataframe\">\n",
       "  <thead>\n",
       "    <tr style=\"text-align: right;\">\n",
       "      <th></th>\n",
       "      <th>name</th>\n",
       "      <th>price</th>\n",
       "      <th>ratio</th>\n",
       "      <th>time</th>\n",
       "      <th>skills</th>\n",
       "      <th>school</th>\n",
       "      <th>Сложность</th>\n",
       "      <th>Тип обучения</th>\n",
       "      <th>Формат обучения</th>\n",
       "      <th>Трудоустройство</th>\n",
       "      <th>Сертификат</th>\n",
       "      <th>Зач. единицы</th>\n",
       "    </tr>\n",
       "  </thead>\n",
       "  <tbody>\n",
       "    <tr>\n",
       "      <th>0</th>\n",
       "      <td>Бухгалтер</td>\n",
       "      <td>81125.0</td>\n",
       "      <td>4.8</td>\n",
       "      <td>NaN</td>\n",
       "      <td>(1C,)</td>\n",
       "      <td>Skillbox</td>\n",
       "      <td>Начинающий</td>\n",
       "      <td>Профессия</td>\n",
       "      <td>С проверкой домашнего задания</td>\n",
       "      <td>Гарантия</td>\n",
       "      <td>Да</td>\n",
       "      <td>NaN</td>\n",
       "    </tr>\n",
       "    <tr>\n",
       "      <th>1</th>\n",
       "      <td>Дизайн среды: от интерьера до города</td>\n",
       "      <td>164700.0</td>\n",
       "      <td>4.8</td>\n",
       "      <td>16836.0</td>\n",
       "      <td>NaN</td>\n",
       "      <td>Нетология</td>\n",
       "      <td>Начинающий</td>\n",
       "      <td>Курс</td>\n",
       "      <td>С проверкой домашнего задания</td>\n",
       "      <td>Гарантия</td>\n",
       "      <td>Да</td>\n",
       "      <td>NaN</td>\n",
       "    </tr>\n",
       "    <tr>\n",
       "      <th>2</th>\n",
       "      <td>Конфиденциальное делопроизводство</td>\n",
       "      <td>6000.0</td>\n",
       "      <td>4.2</td>\n",
       "      <td>NaN</td>\n",
       "      <td>NaN</td>\n",
       "      <td>КонтурШкола</td>\n",
       "      <td>Начинающий</td>\n",
       "      <td>Курс</td>\n",
       "      <td>Записанные лекции</td>\n",
       "      <td>Отсутствует</td>\n",
       "      <td>NaN</td>\n",
       "      <td>NaN</td>\n",
       "    </tr>\n",
       "    <tr>\n",
       "      <th>3</th>\n",
       "      <td>Обработка и анализ данных в SQL</td>\n",
       "      <td>640000.0</td>\n",
       "      <td>4.8</td>\n",
       "      <td>17520.0</td>\n",
       "      <td>(Python, Анализ данных)</td>\n",
       "      <td>Московский физико-технический институт</td>\n",
       "      <td>Продвинутый</td>\n",
       "      <td>Высшее образование</td>\n",
       "      <td>С проверкой домашнего задания</td>\n",
       "      <td>Отсутствует</td>\n",
       "      <td>Да</td>\n",
       "      <td>NaN</td>\n",
       "    </tr>\n",
       "    <tr>\n",
       "      <th>4</th>\n",
       "      <td>Руководитель проектов в строительстве</td>\n",
       "      <td>134700.0</td>\n",
       "      <td>4.4</td>\n",
       "      <td>8784.0</td>\n",
       "      <td>(SCRUM, AGILE)</td>\n",
       "      <td>GeekBrains</td>\n",
       "      <td>Начинающий</td>\n",
       "      <td>Профессия</td>\n",
       "      <td>С проверкой домашнего задания</td>\n",
       "      <td>Гарантия</td>\n",
       "      <td>Да</td>\n",
       "      <td>NaN</td>\n",
       "    </tr>\n",
       "  </tbody>\n",
       "</table>\n",
       "</div>"
      ],
      "text/plain": [
       "                                    name     price  ratio     time  \\\n",
       "0                              Бухгалтер   81125.0    4.8      NaN   \n",
       "1   Дизайн среды: от интерьера до города  164700.0    4.8  16836.0   \n",
       "2      Конфиденциальное делопроизводство    6000.0    4.2      NaN   \n",
       "3        Обработка и анализ данных в SQL  640000.0    4.8  17520.0   \n",
       "4  Руководитель проектов в строительстве  134700.0    4.4   8784.0   \n",
       "\n",
       "                    skills                                  school  \\\n",
       "0                    (1C,)                                Skillbox   \n",
       "1                      NaN                               Нетология   \n",
       "2                      NaN                             КонтурШкола   \n",
       "3  (Python, Анализ данных)  Московский физико-технический институт   \n",
       "4           (SCRUM, AGILE)                              GeekBrains   \n",
       "\n",
       "     Сложность        Тип обучения                Формат обучения  \\\n",
       "0   Начинающий           Профессия  С проверкой домашнего задания   \n",
       "1   Начинающий                Курс  С проверкой домашнего задания   \n",
       "2   Начинающий                Курс              Записанные лекции   \n",
       "3  Продвинутый  Высшее образование  С проверкой домашнего задания   \n",
       "4   Начинающий           Профессия  С проверкой домашнего задания   \n",
       "\n",
       "  Трудоустройство Сертификат  Зач. единицы  \n",
       "0        Гарантия         Да           NaN  \n",
       "1        Гарантия         Да           NaN  \n",
       "2     Отсутствует        NaN           NaN  \n",
       "3     Отсутствует         Да           NaN  \n",
       "4        Гарантия         Да           NaN  "
      ]
     },
     "execution_count": 28,
     "metadata": {},
     "output_type": "execute_result"
    }
   ],
   "source": [
    "df.head(5)"
   ]
  },
  {
   "cell_type": "code",
   "execution_count": 29,
   "id": "d76bdc0d",
   "metadata": {
    "pycharm": {
     "name": "#%%\n"
    }
   },
   "outputs": [],
   "source": [
    "df[['name', 'price', 'time', 'skills', 'school', 'ratio']] \\\n",
    "        .dropna() \\\n",
    "        .reset_index(drop=True) \\\n",
    "        .explode('skills') \\\n",
    "        .to_csv(f'curses_for_pbi.csv', header=['name','price','time','skills','school', 'ratio'])"
   ]
  },
  {
   "cell_type": "code",
   "execution_count": 31,
   "id": "09448901",
   "metadata": {
    "pycharm": {
     "name": "#%%\n"
    }
   },
   "outputs": [],
   "source": [
    "df.to_csv(\"curses_clear.csv\")"
   ]
  }
 ],
 "metadata": {
  "kernelspec": {
   "display_name": "Python 3 (ipykernel)",
   "language": "python",
   "name": "python3"
  },
  "language_info": {
   "codemirror_mode": {
    "name": "ipython",
    "version": 3
   },
   "file_extension": ".py",
   "mimetype": "text/x-python",
   "name": "python",
   "nbconvert_exporter": "python",
   "pygments_lexer": "ipython3",
   "version": "3.9.12"
  }
 },
 "nbformat": 4,
 "nbformat_minor": 5
}