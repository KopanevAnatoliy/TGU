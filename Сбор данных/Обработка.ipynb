{
 "cells": [
  {
   "cell_type": "code",
   "execution_count": 1,
   "id": "3b6fb6c2",
   "metadata": {
    "pycharm": {
     "name": "#%%\n"
    }
   },
   "outputs": [],
   "source": [
    "import pandas as pd\n",
    "import numpy as np\n",
    "import ast\n",
    "import difflib\n",
    "pd.options.display.max_rows = 1000\n",
    "pd.options.display.min_rows = 1000"
   ]
  },
  {
   "cell_type": "code",
   "execution_count": 2,
   "id": "29e95a8a",
   "metadata": {
    "pycharm": {
     "name": "#%%\n"
    }
   },
   "outputs": [],
   "source": [
    "df = pd.read_csv('curses.csv')"
   ]
  },
  {
   "cell_type": "code",
   "execution_count": 3,
   "id": "aae546f5",
   "metadata": {
    "pycharm": {
     "name": "#%%\n"
    }
   },
   "outputs": [],
   "source": [
    "df.drop('Unnamed: 0',axis=1,inplace=True)"
   ]
  },
  {
   "cell_type": "code",
   "execution_count": 4,
   "id": "8dada9dd",
   "metadata": {
    "pycharm": {
     "name": "#%%\n"
    }
   },
   "outputs": [],
   "source": [
    "df['price'] = df['price'].apply(lambda x: '0 ₽' if x == ' бесплатно ' else x)"
   ]
  },
  {
   "cell_type": "code",
   "execution_count": 5,
   "id": "8fc43677",
   "metadata": {
    "pycharm": {
     "name": "#%%\n"
    }
   },
   "outputs": [],
   "source": [
    "df['price'] = df['price'].apply(lambda x: np.nan if x == ' нет данных ' else x)"
   ]
  },
  {
   "cell_type": "code",
   "execution_count": 6,
   "id": "8fdd839c",
   "metadata": {
    "pycharm": {
     "name": "#%%\n"
    }
   },
   "outputs": [],
   "source": [
    "df['price'] = df['price'].apply(lambda x: np.nan if x is np.nan else \n",
    "                                np.nan if (tmp:=int(x.split(' ')[0])) < 1 else tmp).astype(float)"
   ]
  },
  {
   "cell_type": "code",
   "execution_count": 7,
   "id": "6d6b8fed",
   "metadata": {
    "pycharm": {
     "name": "#%%\n"
    }
   },
   "outputs": [],
   "source": [
    "df['skills'] = df['skills'].apply(lambda x : ast.literal_eval(x))"
   ]
  },
  {
   "cell_type": "code",
   "execution_count": 8,
   "id": "56790abc",
   "metadata": {
    "pycharm": {
     "name": "#%%\n"
    }
   },
   "outputs": [],
   "source": [
    "n = 16\n",
    "def rename(data):\n",
    "    sq = difflib.SequenceMatcher(None, data, \"\")\n",
    "    for name in names:\n",
    "        if len(data) <= len(name):\n",
    "            continue\n",
    "        sq.set_seq2(name)\n",
    "        if (sq.find_longest_match()[2] > n):\n",
    "            data = name\n",
    "            sq.set_seq1(data)\n",
    "    return data\n",
    "\n",
    "names = pd.Series(df['name'].unique())\n",
    "names = names[names.str.len() > n]\n",
    "df['name'] = df['name'].apply(rename)"
   ]
  },
  {
   "cell_type": "code",
   "execution_count": 11,
   "id": "6e803f87",
   "metadata": {
    "pycharm": {
     "name": "#%%\n"
    }
   },
   "outputs": [],
   "source": [
    "def clear_time(data):\n",
    "    if data is np.nan:\n",
    "        return np.nan\n",
    "    result = []\n",
    "    for i in data.strip(',').split():\n",
    "        if 'год' in i:\n",
    "            result.append(' * 8760 +')\n",
    "            if i[-1] == ',':\n",
    "                break\n",
    "        elif 'мес' in i:\n",
    "            result.append(' * 732 +')\n",
    "            if i[-1] == ',':\n",
    "                break\n",
    "        elif 'нед' in i:\n",
    "            result.append(' * 168 +')\n",
    "            if i[-1] == ',':\n",
    "                break\n",
    "        elif 'дн' in i:\n",
    "            result.append(' * 24 +')\n",
    "            if i[-1] == ',':\n",
    "                break\n",
    "        elif 'час' in i:\n",
    "            result.append(' * 1 +')\n",
    "            if i[-1] == ',':\n",
    "                break\n",
    "        elif 'мин' in i:\n",
    "            result.append(' / 60 +')\n",
    "            if i[-1] == ',':\n",
    "                break\n",
    "        elif (i == 'по') | ('ак' in i) | ('уро' in i):\n",
    "            break\n",
    "        elif (',' in i):\n",
    "            result.append(i.replace(',','.'))\n",
    "        else:\n",
    "            result.append(i)\n",
    "    result = ''.join(result)\n",
    "    try:\n",
    "        if result[-1] == '+':\n",
    "            result = eval(result[:-1])\n",
    "        else:\n",
    "            result = eval(result)\n",
    "    except:\n",
    "        result = np.nan\n",
    "    return result if result >= 0 else np.nan\n",
    "df['time'] = df['time'].apply(clear_time)"
   ]
  },
  {
   "cell_type": "code",
   "execution_count": 12,
   "id": "3ee8680c",
   "metadata": {
    "pycharm": {
     "name": "#%%\n"
    }
   },
   "outputs": [],
   "source": [
    "skills_dict = {'sql' : 'SQL', 'git': 'Git', 'linux' : 'linux', 'python' : 'Python', 'java script' : 'Java Script',\n",
    "               'javascript' : 'Java Script' ,'json' : 'JSON', 'js' : 'Java Script', 'xml' : 'XML', '1c' : '1C',\n",
    "               '1 c' : '1C', '1с' : '1C', '1 с' : '1C', 'html' : 'HTML', 'css' : 'CSS', 'c#' : 'C#', 'с#' : 'C#',\n",
    "               'php' : 'PHP', 'docker' : 'Docker', 'rest' : 'REST', 'nix' : 'Nix', 'ооп' : 'ООП', 'jira' : 'Atlassian Jira ',\n",
    "               'с++' : 'C++', 'c++' : 'C++', 'android' : 'Android', 'swift' : 'Swift/iOS', 'ios' : 'Swift/iOS',\n",
    "               'kotlin' : 'Kotlin', 'tcp' : 'TCP/IP', 'информационные технологии' : 'Информационные технологии',\n",
    "               'информационная безопасность': 'Информационная безопасность', 'информационной безопасности': 'Информационная безопасность', \n",
    "               'dos': 'DOS', 'net' : '.NET',\n",
    "               'api' : 'API','active directory' : 'Active directory','jquery' : 'JQuery',\n",
    "               'настройка пк' : 'Настройка ПК','настройка сетевых подключений' : 'Настройка сетевых подключений',\n",
    "               'сетевые технологии': 'Настройка сетевых подключений',\n",
    "               'настройка по' : 'Настройка ПО', 'установка по' : 'Настройка ПО',\n",
    "               'windows' : 'Windows', 'базам' : 'Работа с БД', 'базы дан' : 'Работа с БД',\n",
    "               'субд' : 'Работа с БД',\n",
    "               'техническая поддержка' : 'Техническая поддержка','сетевог' : 'Настройка сетевого оборудования','crm' : 'Crm',\n",
    "               'react' : 'React','typescript' : 'TypeScript','dhcp' : 'DHCP',\n",
    "               'анализ' : 'Анализ данных','bash' : 'Bash','zabbix' : 'Zabbix','laravel' : 'Laravel',\n",
    "               'dns': 'Dns', 'cisco': 'Cisco', 'bpmn': 'BPMN', 'тестирование': 'Тестирование', \n",
    "               'nginx': 'Nginx', 'kubernetes': 'Kubernetes', 'vmware': 'VMware', 'redis': 'Redis', \n",
    "               'постановка задач разработчикам': 'Постановка задач разработчикам', 'mongodb': 'MongoDB', \n",
    "               'scrum': 'SCRUM', 'программирование': 'Программирование', \n",
    "               'защиты инфор': 'Cредства информационной защиты', \n",
    "               'uml': 'UML', 'разработка по': 'Разработка ПО', 'spring': 'Spring FrameWork', \n",
    "               'symfony': 'Symfony', 'cms': 'CMS', 'ansible': 'Ansible', 'django': 'Django FrameWork', \n",
    "               'agile': 'AGILE', 'bootstrap': 'BootStrap', 'локаль': 'Администрирование локальных сетей', 'unity': ' Unity', \n",
    "                'rabbit' : 'Rabbit', 'vpn' : 'VPN', 'hyper-v' : 'Hyper-v',\n",
    "                'ajax' : 'AJAX', 'vue' : 'Vue', 'ci/cd' : 'CI/CD',\n",
    "                'golang' : 'Golang', 'mvc' : 'MVC', 'oracle' : 'Oracle',\n",
    "                'битрикс' : 'Bitrix', 'bitrix' : 'Bitrix', 'visual studio' : 'Visual Studio',\n",
    "                'soap' : 'SOAP', 'mac ' : 'Mac OS', 'qt' : 'QT',\n",
    "                'atlassian confluence' : 'Atlassian Confluence', 'http' : 'HTTP', 'верст' : 'Верстка',\n",
    "                'сервер' : 'Настройка серверов', 'системный администратор' : 'Системный администратор', 'powershell' : 'PowerShell',\n",
    "                'yii' : 'Yii', 'access' : 'MS Access', 'kafka' : 'kafka', \n",
    "                'delphi': 'Delphi', 'sass': 'SASS', 'solid': 'SOLID', \n",
    "               'qa': 'QA', 'jenkins': 'Jenkins', 'devops': 'DevOps', 'webpack': 'Webpack', \n",
    "               'backend': 'Backend', 'aws': 'Aws', 'office': 'MS Office', 'asterisk': 'Asterisk', \n",
    "               'hibernate': 'Hibernate', 'grafana': 'Grafana', 'mvvm': 'MVVM', 'centos': 'CentOS', \n",
    "               'power bi': 'Power BI', 'powerbi': 'Power BI', 'wpf': 'WPF', 'git': 'Git', \n",
    "               'test': 'Testing', 'flutter': 'Flutter', 'prometheus': 'Prometheus', 'метрик': 'Метрики', \n",
    "               'entity': 'Entity FrameWork', 'gamedev': 'GameDev', 'redmine': 'Redmine', 'osi': 'OSI', \n",
    "               'антивирус': 'Антивирусная защита', 'сетевого': 'Настройка сетевого оборудования',\n",
    "               'frontend': 'Frontend'\n",
    "              }\n",
    "\n",
    "def skills_transformation(data):\n",
    "    result = set()\n",
    "    for skill in data:\n",
    "        skill = skill.lower()\n",
    "        for key in skills_dict.keys():\n",
    "            if key in skill:\n",
    "                result.add(skills_dict[key])\n",
    "                skill = skill.replace(key,'')\n",
    "        if skill == 'go':\n",
    "            result.add('Golang')\n",
    "            \n",
    "    return tuple(result) if result else np.nan\n",
    "\n",
    "df['skills'] = df['skills'].apply(skills_transformation)"
   ]
  },
  {
   "cell_type": "code",
   "execution_count": 13,
   "id": "d76bdc0d",
   "metadata": {
    "pycharm": {
     "name": "#%%\n"
    }
   },
   "outputs": [],
   "source": [
    "df[['name', 'price', 'time', 'skills', 'school', 'ratio']]\\\n",
    "        .dropna()\\\n",
    "        .reset_index(drop=True)\\\n",
    "        .explode('skills')\\\n",
    "        .to_csv(f'cursesVis.csv', header=['name','price','time','skills','school', 'ratio'])"
   ]
  },
  {
   "cell_type": "code",
   "execution_count": null,
   "id": "09448901",
   "metadata": {
    "pycharm": {
     "name": "#%%\n"
    }
   },
   "outputs": [],
   "source": []
  },
  {
   "cell_type": "code",
   "execution_count": null,
   "id": "378b8615",
   "metadata": {
    "pycharm": {
     "name": "#%%\n"
    }
   },
   "outputs": [],
   "source": []
  }
 ],
 "metadata": {
  "kernelspec": {
   "display_name": "Python 3 (ipykernel)",
   "language": "python",
   "name": "python3"
  },
  "language_info": {
   "codemirror_mode": {
    "name": "ipython",
    "version": 3
   },
   "file_extension": ".py",
   "mimetype": "text/x-python",
   "name": "python",
   "nbconvert_exporter": "python",
   "pygments_lexer": "ipython3",
   "version": "3.9.12"
  }
 },
 "nbformat": 4,
 "nbformat_minor": 5
}