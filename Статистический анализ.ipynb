{
 "cells": [
  {
   "cell_type": "markdown",
   "id": "e6fe8621",
   "metadata": {
    "pycharm": {
     "name": "#%% md\n"
    }
   },
   "source": [
    "# Статистический анализ данных"
   ]
  },
  {
   "cell_type": "code",
   "execution_count": null,
   "id": "8779e59c",
   "metadata": {},
   "outputs": [],
   "source": [
    "import pandas as pd\n",
    "import json\n",
    "import ast\n",
    "import numpy as np\n",
    "import seaborn as sns\n",
    "import matplotlib.pyplot as plt\n",
    "import scipy\n",
    "import scipy.stats as stats\n",
    "import sklearn.linear_model as lm\n",
    "import statsmodels.api as sm\n",
    "import statsmodels.formula.api as smf\n",
    "from sklearn.preprocessing import MultiLabelBinarizer\n",
    "\n",
    "%matplotlib inline\n",
    "# !gdown --id 12ZK2_dILTS_22sNFtIOT7MjaojKPOQoo\n",
    "# !gdown --id 1TeAXhAVS7TjFVpibo1Td_i-Xo5ZW3kt2\n",
    "\n",
    "pd.set_option('display.float_format', lambda x: '%.3f' % x)\n",
    "pd.options.display.max_columns = 20\n",
    "pd.options.display.max_rows = 10\n",
    "pd.options.display.min_rows = 10\n"
   ]
  },
  {
   "cell_type": "code",
   "execution_count": 7,
   "id": "b5899adf",
   "metadata": {
    "pycharm": {
     "name": "#%%\n"
    }
   },
   "outputs": [],
   "source": [
    "list_names = [\n",
    "    'df_may_it',\n",
    "    'df_june_it'\n",
    "]\n",
    "\n",
    "df_may_it, df_june_it = [pd.read_csv(f'{df}.csv') for df in list_names]\n",
    "\n",
    "df_may_it['skills'] = df_may_it['skills'].apply(lambda x: ast.literal_eval(x))\n",
    "df_may_it['specializations'] = df_may_it['specializations'].apply(lambda x: ast.literal_eval(x))\n",
    "\n",
    "df_june_it['skills'] = df_june_it['skills'].apply(lambda x: ast.literal_eval(x))\n",
    "df_june_it['specializations'] = df_june_it['specializations'].apply(lambda x: ast.literal_eval(x))"
   ]
  },
  {
   "cell_type": "markdown",
   "id": "f7386dfd",
   "metadata": {
    "pycharm": {
     "name": "#%% md\n"
    }
   },
   "source": [
    "##  1. Структурирование данных"
   ]
  },
  {
   "cell_type": "code",
   "execution_count": 9,
   "id": "364e188b",
   "metadata": {
    "pycharm": {
     "name": "#%%\n"
    },
    "scrolled": true
   },
   "outputs": [
    {
     "data": {
      "text/html": [
       "<div>\n",
       "<style scoped>\n",
       "    .dataframe tbody tr th:only-of-type {\n",
       "        vertical-align: middle;\n",
       "    }\n",
       "\n",
       "    .dataframe tbody tr th {\n",
       "        vertical-align: top;\n",
       "    }\n",
       "\n",
       "    .dataframe thead th {\n",
       "        text-align: right;\n",
       "    }\n",
       "</style>\n",
       "<table border=\"1\" class=\"dataframe\">\n",
       "  <thead>\n",
       "    <tr style=\"text-align: right;\">\n",
       "      <th></th>\n",
       "      <th>name</th>\n",
       "      <th>salary</th>\n",
       "      <th>schedule</th>\n",
       "      <th>experience</th>\n",
       "      <th>specializations</th>\n",
       "      <th>region</th>\n",
       "      <th>skills</th>\n",
       "    </tr>\n",
       "  </thead>\n",
       "  <tbody>\n",
       "    <tr>\n",
       "      <th>0</th>\n",
       "      <td>Тестировщик.Net</td>\n",
       "      <td>37500.000</td>\n",
       "      <td>Полный день</td>\n",
       "      <td>От 1 года до 3 лет</td>\n",
       "      <td>((Программирование, Разработка, Информационные...</td>\n",
       "      <td>Астраханская область</td>\n",
       "      <td>(SQL, тестирование, C#, api, Git)</td>\n",
       "    </tr>\n",
       "    <tr>\n",
       "      <th>2</th>\n",
       "      <td>Специалист по защите информации</td>\n",
       "      <td>20000.000</td>\n",
       "      <td>Полный день</td>\n",
       "      <td>Нет опыта</td>\n",
       "      <td>((Компьютерная безопасность, Информационные те...</td>\n",
       "      <td>Астраханская область</td>\n",
       "      <td>(компьютер, диагностика пк, работа в условиях ...</td>\n",
       "    </tr>\n",
       "    <tr>\n",
       "      <th>3</th>\n",
       "      <td>Специалист по защите информации</td>\n",
       "      <td>17500.000</td>\n",
       "      <td>Полный день</td>\n",
       "      <td>Нет опыта</td>\n",
       "      <td>((Компьютерная безопасность, Информационные те...</td>\n",
       "      <td>Астраханская область</td>\n",
       "      <td>()</td>\n",
       "    </tr>\n",
       "    <tr>\n",
       "      <th>4</th>\n",
       "      <td>Специалист по защите информации</td>\n",
       "      <td>27000.000</td>\n",
       "      <td>Полный день</td>\n",
       "      <td>Нет опыта</td>\n",
       "      <td>((Компьютерная безопасность, Информационные те...</td>\n",
       "      <td>Астраханская область</td>\n",
       "      <td>(грамотная речь, работа с большим объемом инфо...</td>\n",
       "    </tr>\n",
       "    <tr>\n",
       "      <th>5</th>\n",
       "      <td>Специалист по информационной безопасности</td>\n",
       "      <td>15000.000</td>\n",
       "      <td>Полный день</td>\n",
       "      <td>От 3 до 6 лет</td>\n",
       "      <td>((Компьютерная безопасность, Информационные те...</td>\n",
       "      <td>Астраханская область</td>\n",
       "      <td>()</td>\n",
       "    </tr>\n",
       "  </tbody>\n",
       "</table>\n",
       "</div>"
      ],
      "text/plain": [
       "                                        name    salary     schedule  \\\n",
       "0                            Тестировщик.Net 37500.000  Полный день   \n",
       "2            Специалист по защите информации 20000.000  Полный день   \n",
       "3            Специалист по защите информации 17500.000  Полный день   \n",
       "4            Специалист по защите информации 27000.000  Полный день   \n",
       "5  Специалист по информационной безопасности 15000.000  Полный день   \n",
       "\n",
       "           experience                                    specializations  \\\n",
       "0  От 1 года до 3 лет  ((Программирование, Разработка, Информационные...   \n",
       "2           Нет опыта  ((Компьютерная безопасность, Информационные те...   \n",
       "3           Нет опыта  ((Компьютерная безопасность, Информационные те...   \n",
       "4           Нет опыта  ((Компьютерная безопасность, Информационные те...   \n",
       "5       От 3 до 6 лет  ((Компьютерная безопасность, Информационные те...   \n",
       "\n",
       "                 region                                             skills  \n",
       "0  Астраханская область                  (SQL, тестирование, C#, api, Git)  \n",
       "2  Астраханская область  (компьютер, диагностика пк, работа в условиях ...  \n",
       "3  Астраханская область                                                 ()  \n",
       "4  Астраханская область  (грамотная речь, работа с большим объемом инфо...  \n",
       "5  Астраханская область                                                 ()  "
      ]
     },
     "execution_count": 9,
     "metadata": {},
     "output_type": "execute_result"
    }
   ],
   "source": [
    "df = pd.concat([df_may_it, df_june_it]).drop_duplicates().dropna().drop(\"key_skills\", axis=1)\n",
    "df = df[(df['salary'] < 500000) & (df['salary'] > 9999)]\n",
    "df.head(5)"
   ]
  },
  {
   "cell_type": "markdown",
   "id": "ee1b717d",
   "metadata": {
    "pycharm": {
     "name": "#%% md\n"
    }
   },
   "source": [
    "## 2. Анализ типов данных"
   ]
  },
  {
   "cell_type": "code",
   "execution_count": 10,
   "id": "d1b3e91c",
   "metadata": {
    "pycharm": {
     "name": "#%%\n"
    }
   },
   "outputs": [
    {
     "name": "stdout",
     "output_type": "stream",
     "text": [
      "<class 'pandas.core.frame.DataFrame'>\n",
      "Int64Index: 17282 entries, 0 to 24388\n",
      "Data columns (total 7 columns):\n",
      " #   Column           Non-Null Count  Dtype  \n",
      "---  ------           --------------  -----  \n",
      " 0   name             17282 non-null  object \n",
      " 1   salary           17282 non-null  float64\n",
      " 2   schedule         17282 non-null  object \n",
      " 3   experience       17282 non-null  object \n",
      " 4   specializations  17282 non-null  object \n",
      " 5   region           17282 non-null  object \n",
      " 6   skills           17282 non-null  object \n",
      "dtypes: float64(1), object(6)\n",
      "memory usage: 1.1+ MB\n"
     ]
    }
   ],
   "source": [
    "df.info()"
   ]
  },
  {
   "cell_type": "markdown",
   "id": "df09d8fd",
   "metadata": {
    "pycharm": {
     "name": "#%% md\n"
    }
   },
   "source": [
    "#### Типы данных для датасета:<br>\n",
    "* name - Категориальные\n",
    "* salary - Количественные\n",
    "* schedule - Категориальные\n",
    "* experience - Порядковые\n",
    "* skills - Категориальные\n",
    "* specializations - Категориальные\n",
    "* region - Категориальные"
   ]
  },
  {
   "cell_type": "markdown",
   "id": "0d194f39",
   "metadata": {
    "pycharm": {
     "name": "#%% md\n"
    }
   },
   "source": [
    "## 3. Визуализация данных"
   ]
  },
  {
   "cell_type": "code",
   "execution_count": 11,
   "id": "eb832f7b",
   "metadata": {
    "pycharm": {
     "name": "#%%\n"
    }
   },
   "outputs": [
    {
     "data": {
      "image/png": "[encoded data removed]",
      "text/plain": [
       "<Figure size 1152x1440 with 1 Axes>"
      ]
     },
     "metadata": {},
     "output_type": "display_data"
    }
   ],
   "source": [
    "# Функция отрисовки диаграммы.\n",
    "def print_pie(list_df, main_title=None, sub_title=None, size=10, figsize=(16, 30), legend=True):\n",
    "    subplt_columns = 2\n",
    "    if isinstance(list_df, (pd.DataFrame, pd.Series)):\n",
    "        list_df = [list_df]\n",
    "        subplt_columns = 1\n",
    "    if sub_title is None:\n",
    "        sub_title = [''] * len(list_df)\n",
    "    explode = [0.10 for _ in range(size)]\n",
    "\n",
    "    colors = plt.cm.tab20.colors + plt.cm.tab20b.colors + plt.cm.tab20c.colors\n",
    "    color_dict = {}\n",
    "    index = 0\n",
    "\n",
    "    plt.figure(figsize=figsize)\n",
    "    plt.subplots_adjust(wspace=0.5, hspace=0.3)\n",
    "    if not main_title is None:\n",
    "        plt.suptitle(f'{main_title} ТОП-{size}', y=0.92, fontsize=30)\n",
    "\n",
    "    for numb in range(len(list_df)):\n",
    "\n",
    "        plt.subplot(3, subplt_columns, numb + 1)\n",
    "\n",
    "        data = list_df[numb].value_counts()[:size]\n",
    "        labels = list_df[numb].value_counts()[:size].index\n",
    "\n",
    "        for i in data.index:\n",
    "            if color_dict.get(i) is None:\n",
    "                color_dict[i] = colors[index]\n",
    "                index += 1\n",
    "        \n",
    "        plt.pie(data, labels=['\\n'.join([s[i:i + 8] for i in range(0, len(s), 8)]) for s in labels.str[:16]],\n",
    "                autopct='%.1f%%', colors=[color_dict[key] for key in data.index],\n",
    "                wedgeprops={'edgecolor': 'black', 'linestyle': '-', 'antialiased': True},\n",
    "                labeldistance=1.15, explode=explode, shadow=True)\n",
    "        plt.title(sub_title[numb], y=1.07)\n",
    "        if legend:\n",
    "            plt.legend(labels=labels, loc='upper center',\n",
    "                       bbox_to_anchor=(0.5, -0.1), ncol=2)\n",
    "\n",
    "    plt.show()\n",
    "\n",
    "print_pie(df['experience'],\n",
    "          size=4,\n",
    "          figsize=(16, 20),\n",
    "          legend=False)"
   ]
  },
  {
   "cell_type": "code",
   "execution_count": 18,
   "id": "265b9381",
   "metadata": {
    "pycharm": {
     "name": "#%%\n"
    }
   },
   "outputs": [
    {
     "data": {
      "image/png": "[encoded data removed]",
      "text/plain": [
       "<Figure size 1152x648 with 1 Axes>"
      ]
     },
     "metadata": {
      "needs_background": "light"
     },
     "output_type": "display_data"
    }
   ],
   "source": [
    "plt.figure(figsize=(16, 9))\n",
    "df['region'].value_counts()[:30][::-1].plot.barh()\n",
    "\n",
    "plt.grid()\n",
    "plt.xticks(ticks=[i * 1000 for i in range(16)])\n",
    "plt.ylabel('Регион', fontsize=30)\n",
    "plt.xlabel('Количество', fontsize=30)\n",
    "plt.axis(xmin=0, xmax=4000)\n",
    "plt.show()"
   ]
  },
  {
   "cell_type": "code",
   "execution_count": 19,
   "id": "1b83b892",
   "metadata": {
    "pycharm": {
     "name": "#%%\n"
    }
   },
   "outputs": [
    {
     "data": {
      "image/png": "[encoded data removed]",
      "text/plain": [
       "<Figure size 432x288 with 1 Axes>"
      ]
     },
     "metadata": {
      "needs_background": "light"
     },
     "output_type": "display_data"
    }
   ],
   "source": [
    "df['salary'].hist(bins=50)\n",
    "plt.title(\"Распределение з/п по количеству вакансий\", fontsize=14)\n",
    "plt.ylabel('Количество вакансий', fontsize=12)\n",
    "plt.xlabel('з/п, руб.', fontsize=12)\n",
    "plt.xlim((0, 500000))\n",
    "plt.show()"
   ]
  },
  {
   "cell_type": "markdown",
   "id": "db56cad0",
   "metadata": {
    "pycharm": {
     "name": "#%% md\n"
    }
   },
   "source": [
    "## 4. Гипотеза о виде распределения"
   ]
  },
  {
   "cell_type": "markdown",
   "id": "176f24fb",
   "metadata": {
    "pycharm": {
     "name": "#%% md\n"
    }
   },
   "source": [
    "#### Гипотеза Н0: наблюдаемая выборка принадлежит нормальной генеральной совокупности, уровень значимости полагаем равным 0,05"
   ]
  },
  {
   "cell_type": "code",
   "execution_count": 20,
   "id": "ee74ac0d",
   "metadata": {
    "pycharm": {
     "name": "#%%\n"
    },
    "scrolled": true
   },
   "outputs": [
    {
     "name": "stdout",
     "output_type": "stream",
     "text": [
      "Коэффициент асимметрии - 1.321250915027753\n",
      "Коэффициент эксцесса - 1.6637165430552812\n",
      "NormaltestResult(statistic=3692.8441946164057, pvalue=0.0)\n"
     ]
    }
   ],
   "source": [
    "# Коэффициент ассиметрии, у нормально распределенной выборки он равен 0 (возможны отклонения ±1)\n",
    "print(f\"Коэффициент асимметрии - {df['salary'].skew()}\")\n",
    "\n",
    "# Коэффициент эксцесса, у нормально распределенной выборки он равен 3 (возможны отклонения ±1)\n",
    "print(f\"Коэффициент эксцесса - {df['salary'].kurtosis()}\")\n",
    "\n",
    "# Тест д'Агостино\n",
    "print(stats.normaltest(df['salary']))"
   ]
  },
  {
   "cell_type": "markdown",
   "id": "ccf97506",
   "metadata": {
    "pycharm": {
     "name": "#%% md\n"
    }
   },
   "source": [
    "#### Данная выборка не подчиняется нормальному распределению"
   ]
  },
  {
   "cell_type": "markdown",
   "id": "3a83b12a",
   "metadata": {
    "pycharm": {
     "name": "#%% md\n"
    }
   },
   "source": [
    "# 5. Оценка связи между показателями"
   ]
  },
  {
   "cell_type": "markdown",
   "id": "dd61e43c",
   "metadata": {
    "pycharm": {
     "name": "#%% md\n"
    }
   },
   "source": [
    "### 1. Гипотеза Н0: статистически значимые отличия в группах (опыт работы) отсутсвуют"
   ]
  },
  {
   "cell_type": "code",
   "execution_count": 22,
   "id": "c37465d8",
   "metadata": {
    "pycharm": {
     "name": "#%%\n"
    },
    "scrolled": true
   },
   "outputs": [
    {
     "data": {
      "image/png": "[encoded data removed]",
      "text/plain": [
       "<Figure size 432x288 with 1 Axes>"
      ]
     },
     "metadata": {
      "needs_background": "light"
     },
     "output_type": "display_data"
    }
   ],
   "source": [
    "sns.boxplot(x='experience', y='salary', data=df)\n",
    "plt.show()"
   ]
  },
  {
   "cell_type": "code",
   "execution_count": 23,
   "id": "082cc1cc",
   "metadata": {
    "pycharm": {
     "name": "#%%\n"
    },
    "scrolled": true
   },
   "outputs": [
    {
     "data": {
      "text/plain": [
       "KruskalResult(statistic=4326.472070829372, pvalue=0.0)"
      ]
     },
     "execution_count": 23,
     "metadata": {},
     "output_type": "execute_result"
    }
   ],
   "source": [
    "stats.mstats.kruskalwallis(*[df[df['experience'] == exp]['salary'].values for exp in df['experience'].unique()])"
   ]
  },
  {
   "cell_type": "markdown",
   "id": "2eaa51f9",
   "metadata": {
    "pycharm": {
     "name": "#%% md\n"
    }
   },
   "source": [
    "#### Так как полученное значение p-value < 0.05 (уровень значимости), гипотеза Н0 отвергается. Следовательно опыт работы значительно влияет заработную плату."
   ]
  },
  {
   "cell_type": "markdown",
   "id": "be362d58",
   "metadata": {
    "pycharm": {
     "name": "#%% md\n"
    }
   },
   "source": [
    "### 2. Гипотеза Н0: статистически значимые отличия в группах (регион) отсутсвуют"
   ]
  },
  {
   "cell_type": "code",
   "execution_count": 42,
   "id": "d4acbd16",
   "metadata": {
    "pycharm": {
     "name": "#%%\n"
    }
   },
   "outputs": [
    {
     "data": {
      "text/html": [
       "<div>\n",
       "<style scoped>\n",
       "    .dataframe tbody tr th:only-of-type {\n",
       "        vertical-align: middle;\n",
       "    }\n",
       "\n",
       "    .dataframe tbody tr th {\n",
       "        vertical-align: top;\n",
       "    }\n",
       "\n",
       "    .dataframe thead th {\n",
       "        text-align: right;\n",
       "    }\n",
       "</style>\n",
       "<table border=\"1\" class=\"dataframe\">\n",
       "  <thead>\n",
       "    <tr style=\"text-align: right;\">\n",
       "      <th></th>\n",
       "      <th>salary</th>\n",
       "      <th>r0</th>\n",
       "      <th>r1</th>\n",
       "      <th>r2</th>\n",
       "      <th>r3</th>\n",
       "      <th>r4</th>\n",
       "      <th>r5</th>\n",
       "      <th>r6</th>\n",
       "      <th>r7</th>\n",
       "      <th>r8</th>\n",
       "      <th>...</th>\n",
       "      <th>r70</th>\n",
       "      <th>r71</th>\n",
       "      <th>r72</th>\n",
       "      <th>r73</th>\n",
       "      <th>r74</th>\n",
       "      <th>r75</th>\n",
       "      <th>r76</th>\n",
       "      <th>r77</th>\n",
       "      <th>r78</th>\n",
       "      <th>r79</th>\n",
       "    </tr>\n",
       "  </thead>\n",
       "  <tbody>\n",
       "    <tr>\n",
       "      <th>0</th>\n",
       "      <td>37500.000</td>\n",
       "      <td>0</td>\n",
       "      <td>0</td>\n",
       "      <td>0</td>\n",
       "      <td>1</td>\n",
       "      <td>0</td>\n",
       "      <td>0</td>\n",
       "      <td>0</td>\n",
       "      <td>0</td>\n",
       "      <td>0</td>\n",
       "      <td>...</td>\n",
       "      <td>0</td>\n",
       "      <td>0</td>\n",
       "      <td>0</td>\n",
       "      <td>0</td>\n",
       "      <td>0</td>\n",
       "      <td>0</td>\n",
       "      <td>0</td>\n",
       "      <td>0</td>\n",
       "      <td>0</td>\n",
       "      <td>0</td>\n",
       "    </tr>\n",
       "    <tr>\n",
       "      <th>2</th>\n",
       "      <td>20000.000</td>\n",
       "      <td>0</td>\n",
       "      <td>0</td>\n",
       "      <td>0</td>\n",
       "      <td>1</td>\n",
       "      <td>0</td>\n",
       "      <td>0</td>\n",
       "      <td>0</td>\n",
       "      <td>0</td>\n",
       "      <td>0</td>\n",
       "      <td>...</td>\n",
       "      <td>0</td>\n",
       "      <td>0</td>\n",
       "      <td>0</td>\n",
       "      <td>0</td>\n",
       "      <td>0</td>\n",
       "      <td>0</td>\n",
       "      <td>0</td>\n",
       "      <td>0</td>\n",
       "      <td>0</td>\n",
       "      <td>0</td>\n",
       "    </tr>\n",
       "  </tbody>\n",
       "</table>\n",
       "<p>2 rows × 81 columns</p>\n",
       "</div>"
      ],
      "text/plain": [
       "     salary  r0  r1  r2  r3  r4  r5  r6  r7  r8  ...  r70  r71  r72  r73  r74  \\\n",
       "0 37500.000   0   0   0   1   0   0   0   0   0  ...    0    0    0    0    0   \n",
       "2 20000.000   0   0   0   1   0   0   0   0   0  ...    0    0    0    0    0   \n",
       "\n",
       "   r75  r76  r77  r78  r79  \n",
       "0    0    0    0    0    0  \n",
       "2    0    0    0    0    0  \n",
       "\n",
       "[2 rows x 81 columns]"
      ]
     },
     "execution_count": 42,
     "metadata": {},
     "output_type": "execute_result"
    }
   ],
   "source": [
    "df_region_d = pd.get_dummies(df['region'])\n",
    "name_to_code_region = {item: f'r{i}' for i, item in enumerate(df_region_d.columns)}\n",
    "code_to_name_region = {f'r{i}': item for i, item in enumerate(df_region_d.columns)}\n",
    "df_region_d.rename(columns=name_to_code_region, inplace=True)\n",
    "df_regression = pd.concat([df['salary'], df_region_d], axis=1)\n",
    "\n",
    "df_regression.head(2)"
   ]
  },
  {
   "cell_type": "code",
   "execution_count": 43,
   "id": "8884e6bd",
   "metadata": {
    "pycharm": {
     "name": "#%%\n"
    }
   },
   "outputs": [
    {
     "data": {
      "text/html": [
       "<div>\n",
       "<style scoped>\n",
       "    .dataframe tbody tr th:only-of-type {\n",
       "        vertical-align: middle;\n",
       "    }\n",
       "\n",
       "    .dataframe tbody tr th {\n",
       "        vertical-align: top;\n",
       "    }\n",
       "\n",
       "    .dataframe thead th {\n",
       "        text-align: right;\n",
       "    }\n",
       "</style>\n",
       "<table border=\"1\" class=\"dataframe\">\n",
       "  <thead>\n",
       "    <tr style=\"text-align: right;\">\n",
       "      <th></th>\n",
       "      <th>1</th>\n",
       "      <th>2</th>\n",
       "      <th>3</th>\n",
       "    </tr>\n",
       "    <tr>\n",
       "      <th>0</th>\n",
       "      <th></th>\n",
       "      <th></th>\n",
       "      <th></th>\n",
       "    </tr>\n",
       "  </thead>\n",
       "  <tbody>\n",
       "    <tr>\n",
       "      <th>Dep. Variable:</th>\n",
       "      <td>salary</td>\n",
       "      <td>R-squared:</td>\n",
       "      <td>0.137</td>\n",
       "    </tr>\n",
       "    <tr>\n",
       "      <th>Model:</th>\n",
       "      <td>OLS</td>\n",
       "      <td>Adj. R-squared:</td>\n",
       "      <td>0.133</td>\n",
       "    </tr>\n",
       "    <tr>\n",
       "      <th>Method:</th>\n",
       "      <td>Least Squares</td>\n",
       "      <td>F-statistic:</td>\n",
       "      <td>34.600</td>\n",
       "    </tr>\n",
       "    <tr>\n",
       "      <th>Date:</th>\n",
       "      <td>Thu, 15 Dec 2022</td>\n",
       "      <td>Prob (F-statistic):</td>\n",
       "      <td>0.000</td>\n",
       "    </tr>\n",
       "    <tr>\n",
       "      <th>Time:</th>\n",
       "      <td>00:51:32</td>\n",
       "      <td>Log-Likelihood:</td>\n",
       "      <td>-217790.000</td>\n",
       "    </tr>\n",
       "    <tr>\n",
       "      <th>No. Observations:</th>\n",
       "      <td>17282</td>\n",
       "      <td>AIC:</td>\n",
       "      <td>435700.000</td>\n",
       "    </tr>\n",
       "    <tr>\n",
       "      <th>Df Residuals:</th>\n",
       "      <td>17202</td>\n",
       "      <td>BIC:</td>\n",
       "      <td>436400.000</td>\n",
       "    </tr>\n",
       "    <tr>\n",
       "      <th>Df Model:</th>\n",
       "      <td>79</td>\n",
       "      <td>NaN</td>\n",
       "      <td>NaN</td>\n",
       "    </tr>\n",
       "    <tr>\n",
       "      <th>Covariance Type:</th>\n",
       "      <td>nonrobust</td>\n",
       "      <td>NaN</td>\n",
       "      <td>NaN</td>\n",
       "    </tr>\n",
       "  </tbody>\n",
       "</table>\n",
       "</div>"
      ],
      "text/plain": [
       "                                  1                    2           3\n",
       "0                                                                   \n",
       "Dep. Variable:               salary           R-squared:       0.137\n",
       "Model:                          OLS      Adj. R-squared:       0.133\n",
       "Method:               Least Squares         F-statistic:      34.600\n",
       "Date:              Thu, 15 Dec 2022  Prob (F-statistic):       0.000\n",
       "Time:                      00:51:32      Log-Likelihood: -217790.000\n",
       "No. Observations:             17282                 AIC:  435700.000\n",
       "Df Residuals:                 17202                 BIC:  436400.000\n",
       "Df Model:                        79                  NaN         NaN\n",
       "Covariance Type:          nonrobust                  NaN         NaN"
      ]
     },
     "execution_count": 43,
     "metadata": {},
     "output_type": "execute_result"
    }
   ],
   "source": [
    "resultsm = smf.ols(f'salary ~ {\" + \".join(df_regression.columns[1:])}', data=df_regression).fit()\n",
    "pd.read_html(resultsm.summary().tables[0].as_html(), header=None, index_col=0)[0]\n",
    "# Prob (F-statistic):  -- p-value"
   ]
  },
  {
   "cell_type": "markdown",
   "id": "1653b0b0",
   "metadata": {
    "pycharm": {
     "name": "#%% md\n"
    }
   },
   "source": [
    "#### Так как полученное значение p-value < 0.05 (уровень значимости), гипотеза Н0 отвергается. Следовательно регион значительно влияет на заработную плату."
   ]
  },
  {
   "cell_type": "markdown",
   "id": "3bf09800",
   "metadata": {
    "pycharm": {
     "name": "#%% md\n"
    }
   },
   "source": [
    "### 3. Гипотеза Н0: статистически значимые отличия в группах (тип занятости) отсутсвуют"
   ]
  },
  {
   "cell_type": "code",
   "execution_count": 44,
   "id": "5a3f7f7c",
   "metadata": {
    "pycharm": {
     "name": "#%%\n"
    }
   },
   "outputs": [
    {
     "data": {
      "text/html": [
       "<div>\n",
       "<style scoped>\n",
       "    .dataframe tbody tr th:only-of-type {\n",
       "        vertical-align: middle;\n",
       "    }\n",
       "\n",
       "    .dataframe tbody tr th {\n",
       "        vertical-align: top;\n",
       "    }\n",
       "\n",
       "    .dataframe thead th {\n",
       "        text-align: right;\n",
       "    }\n",
       "</style>\n",
       "<table border=\"1\" class=\"dataframe\">\n",
       "  <thead>\n",
       "    <tr style=\"text-align: right;\">\n",
       "      <th></th>\n",
       "      <th>salary</th>\n",
       "      <th>s0</th>\n",
       "      <th>s1</th>\n",
       "      <th>s2</th>\n",
       "      <th>s3</th>\n",
       "      <th>s4</th>\n",
       "    </tr>\n",
       "  </thead>\n",
       "  <tbody>\n",
       "    <tr>\n",
       "      <th>0</th>\n",
       "      <td>37500.000</td>\n",
       "      <td>0</td>\n",
       "      <td>0</td>\n",
       "      <td>1</td>\n",
       "      <td>0</td>\n",
       "      <td>0</td>\n",
       "    </tr>\n",
       "    <tr>\n",
       "      <th>2</th>\n",
       "      <td>20000.000</td>\n",
       "      <td>0</td>\n",
       "      <td>0</td>\n",
       "      <td>1</td>\n",
       "      <td>0</td>\n",
       "      <td>0</td>\n",
       "    </tr>\n",
       "    <tr>\n",
       "      <th>3</th>\n",
       "      <td>17500.000</td>\n",
       "      <td>0</td>\n",
       "      <td>0</td>\n",
       "      <td>1</td>\n",
       "      <td>0</td>\n",
       "      <td>0</td>\n",
       "    </tr>\n",
       "  </tbody>\n",
       "</table>\n",
       "</div>"
      ],
      "text/plain": [
       "     salary  s0  s1  s2  s3  s4\n",
       "0 37500.000   0   0   1   0   0\n",
       "2 20000.000   0   0   1   0   0\n",
       "3 17500.000   0   0   1   0   0"
      ]
     },
     "execution_count": 44,
     "metadata": {},
     "output_type": "execute_result"
    }
   ],
   "source": [
    "df_schedule_d = pd.get_dummies(df['schedule'])\n",
    "name_to_code_schedule = {item: f's{i}' for i, item in enumerate(df_schedule_d.columns)}\n",
    "code_to_name_schedule = {f's{i}': item for i, item in enumerate(df_schedule_d.columns)}\n",
    "df_schedule_d.rename(columns=name_to_code_schedule, inplace=True)\n",
    "df_regression = pd.concat([df['salary'], df_schedule_d], axis=1)\n",
    "\n",
    "df_regression.head(3)"
   ]
  },
  {
   "cell_type": "code",
   "execution_count": 45,
   "id": "438ee79f",
   "metadata": {
    "pycharm": {
     "name": "#%%\n"
    }
   },
   "outputs": [
    {
     "data": {
      "text/html": [
       "<table class=\"simpletable\">\n",
       "<caption>OLS Regression Results</caption>\n",
       "<tr>\n",
       "  <th>Dep. Variable:</th>         <td>salary</td>      <th>  R-squared:         </th>  <td>   0.113</td>  \n",
       "</tr>\n",
       "<tr>\n",
       "  <th>Model:</th>                   <td>OLS</td>       <th>  Adj. R-squared:    </th>  <td>   0.113</td>  \n",
       "</tr>\n",
       "<tr>\n",
       "  <th>Method:</th>             <td>Least Squares</td>  <th>  F-statistic:       </th>  <td>   441.3</td>  \n",
       "</tr>\n",
       "<tr>\n",
       "  <th>Date:</th>             <td>Thu, 15 Dec 2022</td> <th>  Prob (F-statistic):</th>   <td>  0.00</td>   \n",
       "</tr>\n",
       "<tr>\n",
       "  <th>Time:</th>                 <td>00:51:43</td>     <th>  Log-Likelihood:    </th> <td>-2.1802e+05</td>\n",
       "</tr>\n",
       "<tr>\n",
       "  <th>No. Observations:</th>      <td> 17282</td>      <th>  AIC:               </th>  <td>4.361e+05</td> \n",
       "</tr>\n",
       "<tr>\n",
       "  <th>Df Residuals:</th>          <td> 17276</td>      <th>  BIC:               </th>  <td>4.361e+05</td> \n",
       "</tr>\n",
       "<tr>\n",
       "  <th>Df Model:</th>              <td>     5</td>      <th>                     </th>      <td> </td>     \n",
       "</tr>\n",
       "<tr>\n",
       "  <th>Covariance Type:</th>      <td>nonrobust</td>    <th>                     </th>      <td> </td>     \n",
       "</tr>\n",
       "</table>\n",
       "<table class=\"simpletable\">\n",
       "<tr>\n",
       "      <td></td>         <th>coef</th>     <th>std err</th>      <th>t</th>      <th>P>|t|</th>  <th>[0.025</th>    <th>0.975]</th>  \n",
       "</tr>\n",
       "<tr>\n",
       "  <th>Intercept</th> <td>-6.729e+16</td> <td> 8.17e+16</td> <td>   -0.824</td> <td> 0.410</td> <td>-2.27e+17</td> <td> 9.28e+16</td>\n",
       "</tr>\n",
       "<tr>\n",
       "  <th>s0</th>        <td> 6.729e+16</td> <td> 8.17e+16</td> <td>    0.824</td> <td> 0.410</td> <td>-9.28e+16</td> <td> 2.27e+17</td>\n",
       "</tr>\n",
       "<tr>\n",
       "  <th>s1</th>        <td> 6.729e+16</td> <td> 8.17e+16</td> <td>    0.824</td> <td> 0.410</td> <td>-9.28e+16</td> <td> 2.27e+17</td>\n",
       "</tr>\n",
       "<tr>\n",
       "  <th>s2</th>        <td> 6.729e+16</td> <td> 8.17e+16</td> <td>    0.824</td> <td> 0.410</td> <td>-9.28e+16</td> <td> 2.27e+17</td>\n",
       "</tr>\n",
       "<tr>\n",
       "  <th>s3</th>        <td> 6.729e+16</td> <td> 8.17e+16</td> <td>    0.824</td> <td> 0.410</td> <td>-9.28e+16</td> <td> 2.27e+17</td>\n",
       "</tr>\n",
       "<tr>\n",
       "  <th>s4</th>        <td> 6.729e+16</td> <td> 8.17e+16</td> <td>    0.824</td> <td> 0.410</td> <td>-9.28e+16</td> <td> 2.27e+17</td>\n",
       "</tr>\n",
       "</table>\n",
       "<table class=\"simpletable\">\n",
       "<tr>\n",
       "  <th>Omnibus:</th>       <td>3746.398</td> <th>  Durbin-Watson:     </th> <td>   1.414</td>\n",
       "</tr>\n",
       "<tr>\n",
       "  <th>Prob(Omnibus):</th>  <td> 0.000</td>  <th>  Jarque-Bera (JB):  </th> <td>7930.687</td>\n",
       "</tr>\n",
       "<tr>\n",
       "  <th>Skew:</th>           <td> 1.269</td>  <th>  Prob(JB):          </th> <td>    0.00</td>\n",
       "</tr>\n",
       "<tr>\n",
       "  <th>Kurtosis:</th>       <td> 5.138</td>  <th>  Cond. No.          </th> <td>4.61e+14</td>\n",
       "</tr>\n",
       "</table><br/><br/>Notes:<br/>[1] Standard Errors assume that the covariance matrix of the errors is correctly specified.<br/>[2] The smallest eigenvalue is 1.33e-25. This might indicate that there are<br/>strong multicollinearity problems or that the design matrix is singular."
      ],
      "text/plain": [
       "<class 'statsmodels.iolib.summary.Summary'>\n",
       "\"\"\"\n",
       "                            OLS Regression Results                            \n",
       "==============================================================================\n",
       "Dep. Variable:                 salary   R-squared:                       0.113\n",
       "Model:                            OLS   Adj. R-squared:                  0.113\n",
       "Method:                 Least Squares   F-statistic:                     441.3\n",
       "Date:                Thu, 15 Dec 2022   Prob (F-statistic):               0.00\n",
       "Time:                        00:51:43   Log-Likelihood:            -2.1802e+05\n",
       "No. Observations:               17282   AIC:                         4.361e+05\n",
       "Df Residuals:                   17276   BIC:                         4.361e+05\n",
       "Df Model:                           5                                         \n",
       "Covariance Type:            nonrobust                                         \n",
       "==============================================================================\n",
       "                 coef    std err          t      P>|t|      [0.025      0.975]\n",
       "------------------------------------------------------------------------------\n",
       "Intercept  -6.729e+16   8.17e+16     -0.824      0.410   -2.27e+17    9.28e+16\n",
       "s0          6.729e+16   8.17e+16      0.824      0.410   -9.28e+16    2.27e+17\n",
       "s1          6.729e+16   8.17e+16      0.824      0.410   -9.28e+16    2.27e+17\n",
       "s2          6.729e+16   8.17e+16      0.824      0.410   -9.28e+16    2.27e+17\n",
       "s3          6.729e+16   8.17e+16      0.824      0.410   -9.28e+16    2.27e+17\n",
       "s4          6.729e+16   8.17e+16      0.824      0.410   -9.28e+16    2.27e+17\n",
       "==============================================================================\n",
       "Omnibus:                     3746.398   Durbin-Watson:                   1.414\n",
       "Prob(Omnibus):                  0.000   Jarque-Bera (JB):             7930.687\n",
       "Skew:                           1.269   Prob(JB):                         0.00\n",
       "Kurtosis:                       5.138   Cond. No.                     4.61e+14\n",
       "==============================================================================\n",
       "\n",
       "Notes:\n",
       "[1] Standard Errors assume that the covariance matrix of the errors is correctly specified.\n",
       "[2] The smallest eigenvalue is 1.33e-25. This might indicate that there are\n",
       "strong multicollinearity problems or that the design matrix is singular.\n",
       "\"\"\""
      ]
     },
     "execution_count": 45,
     "metadata": {},
     "output_type": "execute_result"
    }
   ],
   "source": [
    "resultsm = smf.ols(f'salary ~ {\" + \".join(df_regression.columns[1:])}', data=df_regression).fit()\n",
    "resultsm.summary()\n",
    "# Prob (F-statistic):  -- p-value"
   ]
  },
  {
   "cell_type": "markdown",
   "id": "290e317c",
   "metadata": {
    "pycharm": {
     "name": "#%% md\n"
    }
   },
   "source": [
    "#### Так как полученное значение p-value < 0.05 (уровень значимости), гипотеза Н0 отвергается. Следовательно (тип занятости) значительно влияет на заработную плату."
   ]
  },
  {
   "cell_type": "markdown",
   "id": "fc27f008",
   "metadata": {
    "pycharm": {
     "name": "#%% md\n"
    }
   },
   "source": [
    "### 4. Гипотеза Н0: статистически значимые отличия в группах (навыки) отсутсвуют"
   ]
  },
  {
   "cell_type": "code",
   "execution_count": 46,
   "id": "7719cd98",
   "metadata": {
    "pycharm": {
     "name": "#%%\n"
    }
   },
   "outputs": [],
   "source": [
    "# Удалим навыки, встречающиеся реже 100 раз.\n",
    "skills = df['skills'].explode('skills').value_counts()\n",
    "skills = skills[skills > 100].index\n",
    "\n",
    "\n",
    "def clear_skills(data):\n",
    "    arr = []\n",
    "    for i in data:\n",
    "        if i in skills:\n",
    "            arr.append(i)\n",
    "    if len(arr) > 0:\n",
    "        return tuple(arr)\n",
    "    else:\n",
    "        return np.nan\n",
    "\n",
    "\n",
    "df_tmp = df.copy(deep=True)\n",
    "df_tmp['skills'] = df_tmp['skills'].apply(clear_skills)\n",
    "df_tmp = df_tmp.dropna()"
   ]
  },
  {
   "cell_type": "code",
   "execution_count": 47,
   "id": "45a1fc4c",
   "metadata": {
    "pycharm": {
     "name": "#%%\n"
    }
   },
   "outputs": [
    {
     "data": {
      "text/html": [
       "<div>\n",
       "<style scoped>\n",
       "    .dataframe tbody tr th:only-of-type {\n",
       "        vertical-align: middle;\n",
       "    }\n",
       "\n",
       "    .dataframe tbody tr th {\n",
       "        vertical-align: top;\n",
       "    }\n",
       "\n",
       "    .dataframe thead th {\n",
       "        text-align: right;\n",
       "    }\n",
       "</style>\n",
       "<table border=\"1\" class=\"dataframe\">\n",
       "  <thead>\n",
       "    <tr style=\"text-align: right;\">\n",
       "      <th></th>\n",
       "      <th>salary</th>\n",
       "      <th>sk0</th>\n",
       "      <th>sk1</th>\n",
       "      <th>sk2</th>\n",
       "      <th>sk3</th>\n",
       "      <th>sk4</th>\n",
       "      <th>sk5</th>\n",
       "      <th>sk6</th>\n",
       "      <th>sk7</th>\n",
       "      <th>sk8</th>\n",
       "      <th>...</th>\n",
       "      <th>sk146</th>\n",
       "      <th>sk147</th>\n",
       "      <th>sk148</th>\n",
       "      <th>sk149</th>\n",
       "      <th>sk150</th>\n",
       "      <th>sk151</th>\n",
       "      <th>sk152</th>\n",
       "      <th>sk153</th>\n",
       "      <th>sk154</th>\n",
       "      <th>sk155</th>\n",
       "    </tr>\n",
       "  </thead>\n",
       "  <tbody>\n",
       "    <tr>\n",
       "      <th>0</th>\n",
       "      <td>37500.000</td>\n",
       "      <td>0</td>\n",
       "      <td>0</td>\n",
       "      <td>0</td>\n",
       "      <td>0</td>\n",
       "      <td>1</td>\n",
       "      <td>0</td>\n",
       "      <td>0</td>\n",
       "      <td>0</td>\n",
       "      <td>1</td>\n",
       "      <td>...</td>\n",
       "      <td>0</td>\n",
       "      <td>0</td>\n",
       "      <td>0</td>\n",
       "      <td>0</td>\n",
       "      <td>0</td>\n",
       "      <td>0</td>\n",
       "      <td>0</td>\n",
       "      <td>0</td>\n",
       "      <td>0</td>\n",
       "      <td>0</td>\n",
       "    </tr>\n",
       "    <tr>\n",
       "      <th>2</th>\n",
       "      <td>20000.000</td>\n",
       "      <td>0</td>\n",
       "      <td>0</td>\n",
       "      <td>0</td>\n",
       "      <td>0</td>\n",
       "      <td>0</td>\n",
       "      <td>0</td>\n",
       "      <td>0</td>\n",
       "      <td>0</td>\n",
       "      <td>0</td>\n",
       "      <td>...</td>\n",
       "      <td>0</td>\n",
       "      <td>0</td>\n",
       "      <td>0</td>\n",
       "      <td>0</td>\n",
       "      <td>0</td>\n",
       "      <td>0</td>\n",
       "      <td>1</td>\n",
       "      <td>0</td>\n",
       "      <td>0</td>\n",
       "      <td>0</td>\n",
       "    </tr>\n",
       "  </tbody>\n",
       "</table>\n",
       "<p>2 rows × 157 columns</p>\n",
       "</div>"
      ],
      "text/plain": [
       "     salary  sk0  sk1  sk2  sk3  sk4  sk5  sk6  sk7  sk8  ...  sk146  sk147  \\\n",
       "0 37500.000    0    0    0    0    1    0    0    0    1  ...      0      0   \n",
       "2 20000.000    0    0    0    0    0    0    0    0    0  ...      0      0   \n",
       "\n",
       "   sk148  sk149  sk150  sk151  sk152  sk153  sk154  sk155  \n",
       "0      0      0      0      0      0      0      0      0  \n",
       "2      0      0      0      0      1      0      0      0  \n",
       "\n",
       "[2 rows x 157 columns]"
      ]
     },
     "execution_count": 47,
     "metadata": {},
     "output_type": "execute_result"
    }
   ],
   "source": [
    "mlb = MultiLabelBinarizer()\n",
    "\n",
    "df_skills_d = pd.DataFrame(mlb.fit_transform(df_tmp['skills']), columns=mlb.classes_, index=df_tmp.index)\n",
    "name_to_code_skills = {item: f'sk{i}' for i, item in enumerate(df_skills_d.columns)}\n",
    "code_to_name_skills = {f'sk{i}': item for i, item in enumerate(df_skills_d.columns)}\n",
    "df_skills_d.rename(columns=name_to_code_skills, inplace=True)\n",
    "df_regression = pd.concat([df_tmp['salary'], df_skills_d], axis=1)\n",
    "\n",
    "df_regression.head(2)"
   ]
  },
  {
   "cell_type": "code",
   "execution_count": 48,
   "id": "0dffcbbf",
   "metadata": {
    "pycharm": {
     "name": "#%%\n"
    }
   },
   "outputs": [
    {
     "data": {
      "text/html": [
       "<div>\n",
       "<style scoped>\n",
       "    .dataframe tbody tr th:only-of-type {\n",
       "        vertical-align: middle;\n",
       "    }\n",
       "\n",
       "    .dataframe tbody tr th {\n",
       "        vertical-align: top;\n",
       "    }\n",
       "\n",
       "    .dataframe thead th {\n",
       "        text-align: right;\n",
       "    }\n",
       "</style>\n",
       "<table border=\"1\" class=\"dataframe\">\n",
       "  <thead>\n",
       "    <tr style=\"text-align: right;\">\n",
       "      <th></th>\n",
       "      <th>1</th>\n",
       "      <th>2</th>\n",
       "      <th>3</th>\n",
       "    </tr>\n",
       "    <tr>\n",
       "      <th>0</th>\n",
       "      <th></th>\n",
       "      <th></th>\n",
       "      <th></th>\n",
       "    </tr>\n",
       "  </thead>\n",
       "  <tbody>\n",
       "    <tr>\n",
       "      <th>Dep. Variable:</th>\n",
       "      <td>salary</td>\n",
       "      <td>R-squared:</td>\n",
       "      <td>0.373</td>\n",
       "    </tr>\n",
       "    <tr>\n",
       "      <th>Model:</th>\n",
       "      <td>OLS</td>\n",
       "      <td>Adj. R-squared:</td>\n",
       "      <td>0.367</td>\n",
       "    </tr>\n",
       "    <tr>\n",
       "      <th>Method:</th>\n",
       "      <td>Least Squares</td>\n",
       "      <td>F-statistic:</td>\n",
       "      <td>57.280</td>\n",
       "    </tr>\n",
       "    <tr>\n",
       "      <th>Date:</th>\n",
       "      <td>Thu, 15 Dec 2022</td>\n",
       "      <td>Prob (F-statistic):</td>\n",
       "      <td>0.000</td>\n",
       "    </tr>\n",
       "    <tr>\n",
       "      <th>Time:</th>\n",
       "      <td>00:52:12</td>\n",
       "      <td>Log-Likelihood:</td>\n",
       "      <td>-188710.000</td>\n",
       "    </tr>\n",
       "    <tr>\n",
       "      <th>No. Observations:</th>\n",
       "      <td>15150</td>\n",
       "      <td>AIC:</td>\n",
       "      <td>377700.000</td>\n",
       "    </tr>\n",
       "    <tr>\n",
       "      <th>Df Residuals:</th>\n",
       "      <td>14993</td>\n",
       "      <td>BIC:</td>\n",
       "      <td>378900.000</td>\n",
       "    </tr>\n",
       "    <tr>\n",
       "      <th>Df Model:</th>\n",
       "      <td>156</td>\n",
       "      <td>NaN</td>\n",
       "      <td>NaN</td>\n",
       "    </tr>\n",
       "    <tr>\n",
       "      <th>Covariance Type:</th>\n",
       "      <td>nonrobust</td>\n",
       "      <td>NaN</td>\n",
       "      <td>NaN</td>\n",
       "    </tr>\n",
       "  </tbody>\n",
       "</table>\n",
       "</div>"
      ],
      "text/plain": [
       "                                  1                    2           3\n",
       "0                                                                   \n",
       "Dep. Variable:               salary           R-squared:       0.373\n",
       "Model:                          OLS      Adj. R-squared:       0.367\n",
       "Method:               Least Squares         F-statistic:      57.280\n",
       "Date:              Thu, 15 Dec 2022  Prob (F-statistic):       0.000\n",
       "Time:                      00:52:12      Log-Likelihood: -188710.000\n",
       "No. Observations:             15150                 AIC:  377700.000\n",
       "Df Residuals:                 14993                 BIC:  378900.000\n",
       "Df Model:                       156                  NaN         NaN\n",
       "Covariance Type:          nonrobust                  NaN         NaN"
      ]
     },
     "execution_count": 48,
     "metadata": {},
     "output_type": "execute_result"
    }
   ],
   "source": [
    "resultsm = smf.ols(f'salary ~ {\" + \".join(df_regression.columns[1:])}', data=df_regression).fit()\n",
    "pd.read_html(resultsm.summary().tables[0].as_html(), header=None, index_col=0)[0]\n",
    "# Prob (F-statistic):  -- p-value"
   ]
  },
  {
   "cell_type": "markdown",
   "id": "24184e37",
   "metadata": {
    "pycharm": {
     "name": "#%% md\n"
    }
   },
   "source": [
    "#### Так как полученное значение p-value < 0.05 (уровень значимости), гипотеза Н0 отвергается. Следовательно (навыки) значительно влияют на заработную плату."
   ]
  },
  {
   "cell_type": "markdown",
   "id": "d4f33fba",
   "metadata": {
    "pycharm": {
     "name": "#%% md\n"
    }
   },
   "source": [
    "### 4. Гипотеза Н0: статистически значимые отличия в группах (специализация) отсутсвуют"
   ]
  },
  {
   "cell_type": "code",
   "execution_count": 49,
   "id": "7367cd7f",
   "metadata": {
    "pycharm": {
     "name": "#%%\n"
    }
   },
   "outputs": [
    {
     "data": {
      "text/html": [
       "<div>\n",
       "<style scoped>\n",
       "    .dataframe tbody tr th:only-of-type {\n",
       "        vertical-align: middle;\n",
       "    }\n",
       "\n",
       "    .dataframe tbody tr th {\n",
       "        vertical-align: top;\n",
       "    }\n",
       "\n",
       "    .dataframe thead th {\n",
       "        text-align: right;\n",
       "    }\n",
       "</style>\n",
       "<table border=\"1\" class=\"dataframe\">\n",
       "  <thead>\n",
       "    <tr style=\"text-align: right;\">\n",
       "      <th></th>\n",
       "      <th>salary</th>\n",
       "      <th>sp0</th>\n",
       "      <th>sp1</th>\n",
       "      <th>sp2</th>\n",
       "      <th>sp3</th>\n",
       "      <th>sp4</th>\n",
       "      <th>sp5</th>\n",
       "      <th>sp6</th>\n",
       "      <th>sp7</th>\n",
       "      <th>sp8</th>\n",
       "      <th>...</th>\n",
       "      <th>sp157</th>\n",
       "      <th>sp158</th>\n",
       "      <th>sp159</th>\n",
       "      <th>sp160</th>\n",
       "      <th>sp161</th>\n",
       "      <th>sp162</th>\n",
       "      <th>sp163</th>\n",
       "      <th>sp164</th>\n",
       "      <th>sp165</th>\n",
       "      <th>sp166</th>\n",
       "    </tr>\n",
       "  </thead>\n",
       "  <tbody>\n",
       "    <tr>\n",
       "      <th>0</th>\n",
       "      <td>37500.000</td>\n",
       "      <td>0</td>\n",
       "      <td>0</td>\n",
       "      <td>0</td>\n",
       "      <td>0</td>\n",
       "      <td>0</td>\n",
       "      <td>0</td>\n",
       "      <td>0</td>\n",
       "      <td>0</td>\n",
       "      <td>0</td>\n",
       "      <td>...</td>\n",
       "      <td>0</td>\n",
       "      <td>0</td>\n",
       "      <td>0</td>\n",
       "      <td>0</td>\n",
       "      <td>0</td>\n",
       "      <td>0</td>\n",
       "      <td>0</td>\n",
       "      <td>0</td>\n",
       "      <td>0</td>\n",
       "      <td>0</td>\n",
       "    </tr>\n",
       "    <tr>\n",
       "      <th>2</th>\n",
       "      <td>20000.000</td>\n",
       "      <td>0</td>\n",
       "      <td>0</td>\n",
       "      <td>0</td>\n",
       "      <td>0</td>\n",
       "      <td>0</td>\n",
       "      <td>0</td>\n",
       "      <td>0</td>\n",
       "      <td>0</td>\n",
       "      <td>0</td>\n",
       "      <td>...</td>\n",
       "      <td>0</td>\n",
       "      <td>0</td>\n",
       "      <td>0</td>\n",
       "      <td>0</td>\n",
       "      <td>0</td>\n",
       "      <td>0</td>\n",
       "      <td>0</td>\n",
       "      <td>0</td>\n",
       "      <td>0</td>\n",
       "      <td>0</td>\n",
       "    </tr>\n",
       "  </tbody>\n",
       "</table>\n",
       "<p>2 rows × 168 columns</p>\n",
       "</div>"
      ],
      "text/plain": [
       "     salary  sp0  sp1  sp2  sp3  sp4  sp5  sp6  sp7  sp8  ...  sp157  sp158  \\\n",
       "0 37500.000    0    0    0    0    0    0    0    0    0  ...      0      0   \n",
       "2 20000.000    0    0    0    0    0    0    0    0    0  ...      0      0   \n",
       "\n",
       "   sp159  sp160  sp161  sp162  sp163  sp164  sp165  sp166  \n",
       "0      0      0      0      0      0      0      0      0  \n",
       "2      0      0      0      0      0      0      0      0  \n",
       "\n",
       "[2 rows x 168 columns]"
      ]
     },
     "execution_count": 49,
     "metadata": {},
     "output_type": "execute_result"
    }
   ],
   "source": [
    "df_spec_d = pd.DataFrame(mlb.fit_transform(df['specializations']), columns=mlb.classes_, index=df.index)\n",
    "name_to_code_spec = {item: f'sp{i}' for i, item in enumerate(df_spec_d.columns)}\n",
    "code_to_name_spec = {f'sp{i}': item for i, item in enumerate(df_spec_d.columns)}\n",
    "df_spec_d.rename(columns=name_to_code_spec, inplace=True)\n",
    "df_regression = pd.concat([df['salary'], df_spec_d], axis=1)\n",
    "\n",
    "df_regression.head(2)"
   ]
  },
  {
   "cell_type": "code",
   "execution_count": 50,
   "id": "1d181e97",
   "metadata": {
    "pycharm": {
     "name": "#%%\n"
    },
    "scrolled": true
   },
   "outputs": [
    {
     "data": {
      "text/html": [
       "<div>\n",
       "<style scoped>\n",
       "    .dataframe tbody tr th:only-of-type {\n",
       "        vertical-align: middle;\n",
       "    }\n",
       "\n",
       "    .dataframe tbody tr th {\n",
       "        vertical-align: top;\n",
       "    }\n",
       "\n",
       "    .dataframe thead th {\n",
       "        text-align: right;\n",
       "    }\n",
       "</style>\n",
       "<table border=\"1\" class=\"dataframe\">\n",
       "  <thead>\n",
       "    <tr style=\"text-align: right;\">\n",
       "      <th></th>\n",
       "      <th>1</th>\n",
       "      <th>2</th>\n",
       "      <th>3</th>\n",
       "    </tr>\n",
       "    <tr>\n",
       "      <th>0</th>\n",
       "      <th></th>\n",
       "      <th></th>\n",
       "      <th></th>\n",
       "    </tr>\n",
       "  </thead>\n",
       "  <tbody>\n",
       "    <tr>\n",
       "      <th>Dep. Variable:</th>\n",
       "      <td>salary</td>\n",
       "      <td>R-squared:</td>\n",
       "      <td>0.171</td>\n",
       "    </tr>\n",
       "    <tr>\n",
       "      <th>Model:</th>\n",
       "      <td>OLS</td>\n",
       "      <td>Adj. R-squared:</td>\n",
       "      <td>0.166</td>\n",
       "    </tr>\n",
       "    <tr>\n",
       "      <th>Method:</th>\n",
       "      <td>Least Squares</td>\n",
       "      <td>F-statistic:</td>\n",
       "      <td>33.860</td>\n",
       "    </tr>\n",
       "    <tr>\n",
       "      <th>Date:</th>\n",
       "      <td>Thu, 15 Dec 2022</td>\n",
       "      <td>Prob (F-statistic):</td>\n",
       "      <td>0.000</td>\n",
       "    </tr>\n",
       "    <tr>\n",
       "      <th>Time:</th>\n",
       "      <td>00:52:29</td>\n",
       "      <td>Log-Likelihood:</td>\n",
       "      <td>-217430.000</td>\n",
       "    </tr>\n",
       "    <tr>\n",
       "      <th>No. Observations:</th>\n",
       "      <td>17282</td>\n",
       "      <td>AIC:</td>\n",
       "      <td>435100.000</td>\n",
       "    </tr>\n",
       "    <tr>\n",
       "      <th>Df Residuals:</th>\n",
       "      <td>17176</td>\n",
       "      <td>BIC:</td>\n",
       "      <td>435900.000</td>\n",
       "    </tr>\n",
       "    <tr>\n",
       "      <th>Df Model:</th>\n",
       "      <td>105</td>\n",
       "      <td>NaN</td>\n",
       "      <td>NaN</td>\n",
       "    </tr>\n",
       "    <tr>\n",
       "      <th>Covariance Type:</th>\n",
       "      <td>nonrobust</td>\n",
       "      <td>NaN</td>\n",
       "      <td>NaN</td>\n",
       "    </tr>\n",
       "  </tbody>\n",
       "</table>\n",
       "</div>"
      ],
      "text/plain": [
       "                                  1                    2           3\n",
       "0                                                                   \n",
       "Dep. Variable:               salary           R-squared:       0.171\n",
       "Model:                          OLS      Adj. R-squared:       0.166\n",
       "Method:               Least Squares         F-statistic:      33.860\n",
       "Date:              Thu, 15 Dec 2022  Prob (F-statistic):       0.000\n",
       "Time:                      00:52:29      Log-Likelihood: -217430.000\n",
       "No. Observations:             17282                 AIC:  435100.000\n",
       "Df Residuals:                 17176                 BIC:  435900.000\n",
       "Df Model:                       105                  NaN         NaN\n",
       "Covariance Type:          nonrobust                  NaN         NaN"
      ]
     },
     "execution_count": 50,
     "metadata": {},
     "output_type": "execute_result"
    }
   ],
   "source": [
    "resultsm = smf.ols(f'salary ~ {\" + \".join(df_regression.columns[1:])}', data=df_regression).fit()\n",
    "pd.read_html(resultsm.summary().tables[0].as_html(), header=None, index_col=0)[0]\n",
    "# Prob (F-statistic):  -- p-value"
   ]
  },
  {
   "cell_type": "markdown",
   "id": "c317ced4",
   "metadata": {
    "pycharm": {
     "name": "#%% md\n"
    }
   },
   "source": [
    "#### Так как полученное значение p-value < 0.05 (уровень значимости), гипотеза Н0 отвергается. Следовательно (специализация) значительно влияют на заработную плату."
   ]
  },
  {
   "cell_type": "markdown",
   "id": "0645cecf",
   "metadata": {
    "pycharm": {
     "name": "#%% md\n"
    }
   },
   "source": [
    "# Вывод: все выбранные признаки имеют высокую статистическую значимость. Наибольший коэффициент детерминации у навыков."
   ]
  }
 ],
 "metadata": {
  "kernelspec": {
   "display_name": "Python 3 (ipykernel)",
   "language": "python",
   "name": "python3"
  },
  "language_info": {
   "codemirror_mode": {
    "name": "ipython",
    "version": 3
   },
   "file_extension": ".py",
   "mimetype": "text/x-python",
   "name": "python",
   "nbconvert_exporter": "python",
   "pygments_lexer": "ipython3",
   "version": "3.9.12"
  }
 },
 "nbformat": 4,
 "nbformat_minor": 5
}
